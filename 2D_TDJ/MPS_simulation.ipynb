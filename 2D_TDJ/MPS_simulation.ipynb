{
 "cells": [
  {
   "cell_type": "code",
   "execution_count": 8,
   "metadata": {},
   "outputs": [],
   "source": [
    "import numpy as np\n",
    "import os\n",
    "os.environ[\"SCIPY_USE_PROPACK\"] = \"True\"\n",
    "import scipy\n",
    "from scipy.sparse.linalg import svds"
   ]
  },
  {
   "cell_type": "code",
   "execution_count": 2,
   "metadata": {},
   "outputs": [],
   "source": [
    "# Create field\n",
    "n_bits = 6\n",
    "chi = 2**n_bits\n",
    "y_min = 0.4\n",
    "y_max = 0.6\n",
    "h = 1/200 \n",
    "u_max = 1\n",
    "\n",
    "epsilon = 10^-8\n",
    "\n",
    "# Set timesteps\n",
    "dt = 0.1*2**-(n_bits-1)\n",
    "T = 3\n",
    "\n",
    "# Set penalty factor for breach of incompressibility condition\n",
    "dx = 2**-n_bits\n",
    "lam = dx**2 * 10**4"
   ]
  },
  {
   "cell_type": "code",
   "execution_count": 1,
   "metadata": {},
   "outputs": [],
   "source": [
    "# Initial conditions for TDJ\n",
    "def J(X, Y, u_0, y_min=0.4, y_max=0.6, h = 0.005):\n",
    "    return u_0/2*(np.tanh((Y-y_min)/h)-np.tanh((Y-y_max)/h)-1), np.zeros_like(Y)\n",
    "\n",
    "def d_1(X, Y, y_min=0.4, y_max=0.6, h=0.005, L_box=1):\n",
    "    return 2*L_box/h**2*((Y-y_max)*np.exp(-(Y-y_max)**2/h**2)+(Y-y_min)*np.exp(-(Y-y_min)**2/h**2))*(np.sin(8*np.pi*X/L_box)+np.sin(24*np.pi*X/L_box)+np.sin(6*np.pi*X/L_box))\n",
    "\n",
    "def d_2(X, Y, y_min=0.4, y_max=0.6, h=0.005, L_box=1):\n",
    "    return np.pi*(np.exp(-(Y-y_max)**2/h**2)+np.exp(-(Y-y_min)**2/h**2))*(8*np.cos(8*np.pi*X/L_box)+24*np.cos(24*np.pi*X/L_box)+6*np.cos(6*np.pi*X/L_box))\n",
    "\n",
    "def D(X, Y, u_0, y_min, y_max, h, L_box):\n",
    "    d1 = d_1(X, Y, y_min, y_max, h, L_box)\n",
    "    d2 = d_2(X, Y, y_min, y_max, h, L_box)\n",
    "    delta = u_0/(40*np.max(np.sqrt(d1**2+d2**2)))\n",
    "    return delta*d1, delta*d2"
   ]
  },
  {
   "cell_type": "code",
   "execution_count": 2,
   "metadata": {},
   "outputs": [],
   "source": [
    "def CreateFields2D(L, N):\n",
    "    dx = L/N    # dx=dy\n",
    "\n",
    "    # create 2D grid\n",
    "    x = np.linspace(0, L-dx, N)\n",
    "    y = np.linspace(0, L-dx, N)\n",
    "    X, Y = np.meshgrid(x, y)\n",
    "\n",
    "    # load initial conditions for TDJ\n",
    "    U, V = J(X, Y, u_max, y_min, y_max, h)\n",
    "    dU, dV = D(X, Y, u_max, y_min, y_max, h, L)\n",
    "    U = U + dU\n",
    "    V = V + dV\n",
    "\n",
    "    return U, V"
   ]
  },
  {
   "cell_type": "code",
   "execution_count": 5,
   "metadata": {},
   "outputs": [],
   "source": [
    "def expand_rows(mat, K):\n",
    "    # divide each row in K parts and create new matrix where each row corresponds to one part\n",
    "    \n",
    "    m, n = mat.shape\n",
    "    m_new = m*K\n",
    "    n_new = int(n/K)\n",
    "    mat_out = np.zeros((m_new, n_new))\n",
    "\n",
    "    for i in range(m):\n",
    "        j = i*K\n",
    "        mat_out[j:j+K, :] = np.reshape(mat[i, :], (K, n_new))\n",
    "\n",
    "    return mat_out"
   ]
  },
  {
   "cell_type": "code",
   "execution_count": 6,
   "metadata": {},
   "outputs": [],
   "source": [
    "def get_F_index(binary):\n",
    "    # get index in original array\n",
    "    # binary = sig_1^x sig_1^y ... sig_n_bits^x sig_n_bits^y\n",
    "    # F_index = sig_1^x sig_2^x ... sig_n_bits^x sig_1^y sig_2^y ... sig_n_bits^y\n",
    "    return int(binary[::2]+binary[1::2], 2)"
   ]
  },
  {
   "cell_type": "code",
   "execution_count": 7,
   "metadata": {},
   "outputs": [],
   "source": [
    "def svd(mat, k):\n",
    "    # Perform truncated singular value decomposition \n",
    "    chi_k = np.min(mat.shape)-1\n",
    "    if k < chi_k:\n",
    "        chi_k = k\n",
    "    U, S, V = svds(mat, chi_k)\n",
    "    m, n = mat.shape\n",
    "    d_min = min(m, n)\n",
    "    U_full = np.zeros((m, d_min))\n",
    "    S_full = np.zeros((d_min, d_min))\n",
    "    V_full = np.zeros((d_min, n))\n",
    "    m, n = U.shape\n",
    "    U_full[:m, :n] = U\n",
    "    S_full[:chi_k, :chi_k] = np.diag(S)\n",
    "    m, n = V.shape\n",
    "    V_full[:m, :n] = V\n",
    "\n",
    "    return U_full, S_full, V_full"
   ]
  },
  {
   "cell_type": "code",
   "execution_count": 45,
   "metadata": {},
   "outputs": [],
   "source": [
    "def createMPS2D(F, chi):\n",
    "    Nx, Ny = F.shape            # Get number of points (Nx equals Ny)\n",
    "    n = int(np.log2(Nx))        # Get number of (qu)bits\n",
    "    F_vec = F.reshape((1, -1))  # Flatten function\n",
    "    \n",
    "    # Reshape into scale resolving representation C\n",
    "    w = '0'*2*n                                 # index sig_1^x sig_1^y ... sig_n_bits^x sig_n_bits^y\n",
    "    C_vec = np.zeros(4**n).reshape((1, -1))     # similar to F but with scale indices\n",
    "\n",
    "    for k in range(4**n):\n",
    "        F_index = get_F_index(w)                # get original index for w\n",
    "        C_index = int(w, 2)                     # get corresponding index for w\n",
    "        w = bin(C_index+1)[2:].zfill(2*n)       # set w += 1 in binary\n",
    "        C_vec[0, C_index] = F_vec[0, F_index]   \n",
    "\n",
    "    node = C_vec    # set first node of MPS\n",
    "    MPS = []        # create MPS as list of matrices\n",
    "    S_mats = []     # create list for singular value matrices \n",
    "\n",
    "    itNum = 1\n",
    "    for i in range(n):\n",
    "        node = expand_rows(node, 4)     # move first index from columns to rows\n",
    "        U, S, V = svd(node, chi)        # perform truncated SVD\n",
    "        MPS.append(U)                   # save U as first node of MPS\n",
    "        S_mats.append(S)                # save S\n",
    "        node = np.matmul(S, V)          # create remaining matrix S*V for next expansion step\n",
    "\n",
    "    node = expand_rows(node, 4)\n",
    "    MPS.append(node)    # add last node to MPS\n",
    "\n",
    "    return MPS"
   ]
  },
  {
   "cell_type": "code",
   "execution_count": 9,
   "metadata": {},
   "outputs": [],
   "source": [
    "# Function from Matlab code of the paper\n",
    "def buildFluidField2DMPS(Umax, L_orig, chi, kmax, alpha):\n",
    "    N = 2**L_orig\n",
    "    L = 1\n",
    "\n",
    "    # Generate initial fields\n",
    "    U, V = CreateFields2D(L, N) \n",
    "\n",
    "    # Rescale into non-dimensional units\n",
    "    U = U/Umax\n",
    "    V = V/Umax\n",
    "\n",
    "    # Convert them to MPS form\n",
    "    MPS_U = createMPS2D(U, chi)\n",
    "    MPS_V = createMPS2D(V, chi)\n",
    "\n",
    "    # Tranform into TNT MPS form\n",
    "    MPS_U_TNT = convertMPS_NikTNT(MPS_U, 4)\n",
    "    MPS_V_TNT = convertMPS_NikTNT(MPS_V, 4)\n",
    "\n",
    "    return MPS_U_TNT, MPS_V_TNT, MPS_U, MPS_V"
   ]
  },
  {
   "cell_type": "code",
   "execution_count": null,
   "metadata": {},
   "outputs": [],
   "source": []
  }
 ],
 "metadata": {
  "kernelspec": {
   "display_name": "Python 3.10.6 ('num')",
   "language": "python",
   "name": "python3"
  },
  "language_info": {
   "codemirror_mode": {
    "name": "ipython",
    "version": 3
   },
   "file_extension": ".py",
   "mimetype": "text/x-python",
   "name": "python",
   "nbconvert_exporter": "python",
   "pygments_lexer": "ipython3",
   "version": "3.10.6"
  },
  "orig_nbformat": 4,
  "vscode": {
   "interpreter": {
    "hash": "7cb082fca4cd6b2b0cd1e5c451127fbcb2d3b1bacb2ad7ef6100dcdcb4357746"
   }
  }
 },
 "nbformat": 4,
 "nbformat_minor": 2
}
