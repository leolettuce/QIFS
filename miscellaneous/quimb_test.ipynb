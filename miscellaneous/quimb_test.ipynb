{
 "cells": [
  {
   "cell_type": "code",
   "execution_count": 2,
   "metadata": {},
   "outputs": [
    {
     "name": "stderr",
     "output_type": "stream",
     "text": [
      "OMP: Info #276: omp_set_nested routine deprecated, please use omp_set_max_active_levels instead.\n"
     ]
    }
   ],
   "source": [
    "import quimb as qu\n",
    "import numpy as np"
   ]
  },
  {
   "cell_type": "code",
   "execution_count": 2,
   "metadata": {},
   "outputs": [],
   "source": [
    "data = np.arange(8)shape((2, 2, 2))\n",
    "inds = ('k0', 'k1', 'k2')\n",
    "tags = ('test', )\n",
    "\n",
    "test_tn = qu.tensor.Tensor(data, inds, tags)"
   ]
  },
  {
   "cell_type": "code",
   "execution_count": 3,
   "metadata": {},
   "outputs": [
    {
     "data": {
      "image/png": "[encoded data removed]",
      "text/plain": [
       "<Figure size 600x600 with 1 Axes>"
      ]
     },
     "metadata": {},
     "output_type": "display_data"
    }
   ],
   "source": [
    "test_tn.draw()"
   ]
  },
  {
   "cell_type": "code",
   "execution_count": 4,
   "metadata": {},
   "outputs": [],
   "source": [
    "X = qu.tensor.Tensor(qu.pauli('X'), inds=('k0', 'b0'), tags=['PAULI', 'X', '0'])\n",
    "Y = qu.tensor.Tensor(qu.pauli('Y'), inds=('k1', 'b1'), tags=['PAULI', 'Y', '1'])"
   ]
  },
  {
   "cell_type": "code",
   "execution_count": 5,
   "metadata": {},
   "outputs": [],
   "source": [
    "TN = test_tn & X & Y"
   ]
  },
  {
   "cell_type": "code",
   "execution_count": 6,
   "metadata": {},
   "outputs": [
    {
     "data": {
      "image/png": "[encoded data removed]",
      "text/plain": [
       "<Figure size 600x600 with 1 Axes>"
      ]
     },
     "metadata": {},
     "output_type": "display_data"
    }
   ],
   "source": [
    "TN.draw()"
   ]
  },
  {
   "cell_type": "code",
   "execution_count": 8,
   "metadata": {},
   "outputs": [],
   "source": [
    "leftTerminator_array = np.zeros(3)\n",
    "Dmid_array = np.zeros((12,12))    # bulk node\n",
    "Dending_array = np.zeros((12,20)) # second-to-last node\n",
    "Dend_array = np.zeros((20,24))    # last node\n",
    "rightTerminator_array = np.zeros(6)\n",
    "h = 0.5**10"
   ]
  },
  {
   "cell_type": "code",
   "execution_count": 11,
   "metadata": {},
   "outputs": [],
   "source": [
    "leftTerminator_array[0] = 1\n",
    "leftTerminator_array[1] = 1\n",
    "leftTerminator_array[2] = 1\n",
    "\n",
    "Dmid_array[0, 0] = 1\n",
    "Dmid_array[1, 1] = 1\n",
    "Dmid_array[2, 2] = 1\n",
    "Dmid_array[3, 3] = 1\n",
    "\n",
    "# When sending in 1 from the right: add */\n",
    "Dmid_array[1+4*0, (0+4*1)] = 1\n",
    "Dmid_array[0+4*1, (1+4*1)] = 1\n",
    "Dmid_array[3+4*0, (2+4*1)] = 1 #01->11\n",
    "Dmid_array[2+4*1, (3+4*1)] = 1 #11->01+\n",
    "\n",
    "# When sending in 2 from the right: substract */\n",
    "Dmid_array[1+4*2, (0+4*2)] = 1\n",
    "Dmid_array[0+4*0, (1+4*2)] = 1\n",
    "Dmid_array[3+4*2, (2+4*2)] = 1 #01->11-\n",
    "Dmid_array[2+4*0, (3+4*2)] = 1 #11->01\n",
    "\n",
    "# Dending *\n",
    "# When sending in 0 from the right: do nothing */\n",
    "Dending_array[0, 0] = 1\n",
    "Dending_array[1, 1] = 1\n",
    "Dending_array[2, 2] = 1\n",
    "Dending_array[3, 3] = 1\n",
    "\n",
    "# When sending in 1 from the right: add */\n",
    "Dending_array[1+4*0, (0+4*1)] = 1\n",
    "Dending_array[0+4*1, (1+4*1)] = 1\n",
    "Dending_array[3+4*0, (2+4*1)] = 1\n",
    "Dending_array[2+4*1, (3+4*1)] = 1\n",
    "\n",
    "# When sending in 2 from the right: substract */\n",
    "Dending_array[1+4*2, (0+4*2)] = 1\n",
    "Dending_array[0+4*0, (1+4*2)] = 1\n",
    "Dending_array[3+4*2, (2+4*2)] = 1\n",
    "Dending_array[2+4*0, (3+4*2)] = 1\n",
    "\n",
    "# When sending in 3 from the right: add 4h */\n",
    "Dending_array[0+4*1, (0+4*3)] = 1 #add\n",
    "Dending_array[1+4*1, (1+4*3)] = 1 #add\n",
    "Dending_array[2+4*1, (2+4*3)] = 1 #add\n",
    "Dending_array[3+4*1, (3+4*3)] = 1 #add\n",
    "\n",
    "# When sending in 4 from the right: substract 4h */\n",
    "Dending_array[0+4*2, (0+4*4)] = 1 #substract\n",
    "Dending_array[1+4*2, (1+4*4)] = 1 #substract\n",
    "Dending_array[2+4*2, (2+4*4)] = 1 #substract\n",
    "Dending_array[3+4*2, (3+4*4)] = 1 #substract\n",
    "\n",
    "# Dend */\n",
    "# When sending in 0 from the right: do nothing */\n",
    "Dend_array[0, 0] = 1\n",
    "Dend_array[1, 1] = 1\n",
    "Dend_array[2, 2] = 1\n",
    "Dend_array[3, 3] = 1\n",
    "\n",
    "# When sending in 1 from the right: add */\n",
    "Dend_array[1+4*0, (0+4*1)] = 1\n",
    "Dend_array[0+4*1, (1+4*1)] = 1\n",
    "Dend_array[3+4*0, (2+4*1)] = 1\n",
    "Dend_array[2+4*1, (3+4*1)] = 1\n",
    "\n",
    "# When sending in 2 from the right: substract */\n",
    "Dend_array[1+4*2, (0+4*2)] = 1\n",
    "Dend_array[0+4*0, (1+4*2)] = 1\n",
    "Dend_array[3+4*2, (2+4*2)] = 1\n",
    "Dend_array[2+4*0, (3+4*2)] = 1\n",
    "\n",
    "# When sending in 3 from the right: go to 2h */\n",
    "Dend_array[0+4*1, (0+4*3)] = -1 #add\n",
    "Dend_array[0+4*2, (0+4*3)] = +1 #substract\n",
    "Dend_array[1+4*1, (1+4*3)] = -1 #add\n",
    "Dend_array[1+4*2, (1+4*3)] = +1 #substract\n",
    "Dend_array[2+4*1, (2+4*3)] = -1 #add\n",
    "Dend_array[2+4*2, (2+4*3)] = +1 #substract\n",
    "Dend_array[3+4*1, (3+4*3)] = -1 #add\n",
    "Dend_array[3+4*2, (3+4*3)] = +1 #substract\n",
    "\n",
    "# When sending in 4 from the right: go to 3h */\n",
    "# Perform the addition & substraction at this end node, and send instructions to next node */\n",
    "Dend_array[1+4*1, (0+4*4)] = -1 #add\n",
    "Dend_array[0+4*2, (1+4*4)] = +1 #substract\n",
    "Dend_array[3+4*1, (2+4*4)] = -1 #add\n",
    "Dend_array[2+4*2, (3+4*4)] = +1 #substract\n",
    "# Special case when remainder must be transferred */\n",
    "Dend_array[1+4*4, (0+4*4)] = +1 #substract 4h\n",
    "Dend_array[0+4*3, (1+4*4)] = -1 #add 4h\n",
    "Dend_array[3+4*4, (2+4*4)] = +1 #substract 4h\n",
    "Dend_array[2+4*3, (3+4*4)] = -1 #add 4h\n",
    "\n",
    "# When sending in 5 from the right: go to 4h */\n",
    "# Add 4h */\n",
    "Dend_array[0+4*3, (0+4*5)] = -1\n",
    "Dend_array[1+4*3, (1+4*5)] = -1\n",
    "Dend_array[2+4*3, (2+4*5)] = -1\n",
    "Dend_array[3+4*3, (3+4*5)] = -1\n",
    "# Substract 4h */\n",
    "Dend_array[0+4*4, (0+4*5)] = +1\n",
    "Dend_array[1+4*4, (1+4*5)] = +1\n",
    "Dend_array[2+4*4, (2+4*5)] = +1\n",
    "Dend_array[3+4*4, (3+4*5)] = +1\n",
    "\n",
    "# Right terminating array (for Dend) */\n",
    "# 8th order */\n",
    "rightTerminator_array[0] = 0 #do nothing\n",
    "rightTerminator_array[1] = -4/(5*h)  #add at h\n",
    "rightTerminator_array[2] = +4/(5*h)  #substract at h\n",
    "rightTerminator_array[3] = -1/(5*h)  #add & substract at 2h\n",
    "rightTerminator_array[4] = +4/(105*h)#add & substract at 3h\n",
    "rightTerminator_array[5] = -1/(280*h)#add & substract at 4h"
   ]
  },
  {
   "cell_type": "code",
   "execution_count": null,
   "metadata": {},
   "outputs": [],
   "source": [
    "/* Create the nodes */\n",
    "Dmid = tntNodeCreate(&Dmid_array, \"DLUR\", 4, 3, 4, 3);\n",
    "Dending = tntNodeCreate(&Dending_array, \"DLUR\", 4, 3, 4, 5);\n",
    "Dend = tntNodeCreate(&Dend_array, \"DLUR\", 4, 5, 4, 6);\n",
    "rightTerminator = tntNodeCreate(&rightTerminator_array, \"LR\", 6, 1);\n",
    "leftTerminator = tntNodeCreate(&leftTerminator_array, \"LR\", 1, 3);\n",
    "/* Use terminating nodes to produce starting and ending D nodes */\n",
    "/* First Dstart */\n",
    "Dmidc = tntNodeCopy(Dmid);\n",
    "tntNodeJoin(leftTerminator,\"R\",Dmidc,\"L\");\n",
    "Dstart = tntNodeContract(leftTerminator,Dmidc);\n",
    "/* Then Dend */\n",
    "tntNodeJoin(Dend,\"R\",rightTerminator,\"L\");\n",
    "Dend = tntNodeContract(rightTerminator,Dend);\n",
    "\n",
    "/* Produce the full network */\n",
    "/* First initialise it */\n",
    "d1 = tntNetworkCreate();\n",
    "\n",
    "/* Insert the bulk nodes */\n",
    "for(unsigned i = 0; i<L-3; i++){\n",
    "    /* Create mid node at i */\n",
    "    Dmidc = tntNodeCopy(Dmid);\n",
    "    tntNodeInsertAtStart(Dmidc, \"L\", \"R\", d1);\n",
    "}\n",
    "\n",
    "/* Finally, insert the terminating nodes */\n",
    "tntNodeInsertAtStart(Dstart,\"L\",\"R\",d1);\n",
    "tntNodeInsertAtEnd(Dending,\"L\",\"R\",d1);\n",
    "tntNodeInsertAtEnd(Dend,\"L\",\"R\",d1);"
   ]
  },
  {
   "cell_type": "code",
   "execution_count": null,
   "metadata": {},
   "outputs": [],
   "source": [
    "Dmid_array.reshape((4, 3, 4, 3))\n",
    "Dending_array.reshape((4, 3, 4, 5))\n",
    "Dend_array.reshape((4, 5, 4, 6))\n",
    "rightTerminator_array.reshape((6, 1))\n",
    "leftTerminator_array.reshape((1, 3))"
   ]
  },
  {
   "cell_type": "code",
   "execution_count": null,
   "metadata": {},
   "outputs": [],
   "source": [
    "Dmid = qu.tensor.MatrixProductOperator(Dmid_array.reshape((4, 3, 4, 3)), 'dlur')\n",
    "Dending = qu.tensor.MatrixProductOperator(Dending_array.reshape((4, 3, 4, 5)), 'dlur')\n",
    "Dend = qu.tensor.MatrixProductOperator(Dend_array.reshape((4, 5, 4, 6)), 'dlur')\n",
    "rightTerminator = qu.tensor.MatrixProductOperator(rightTerminator_array.reshape((6, 1)), 'lr')\n",
    "leftTerminator = qu.tensor.MatrixProductOperator(leftTerminator_array.reshape((1, 3)), 'lr')"
   ]
  },
  {
   "cell_type": "code",
   "execution_count": 52,
   "metadata": {},
   "outputs": [],
   "source": [
    "leftTerminator_tensor = qu.tensor.Tensor(leftTerminator_array.reshape((1, 3)), ('l0', 'r0'), 'lT')\n",
    "Dmid_tensor = qu.tensor.Tensor(Dmid_array.reshape((4, 3, 4, 3)), ('d1', 'r0', 'u1', 'r1'), 'Dmid')"
   ]
  },
  {
   "cell_type": "code",
   "execution_count": 60,
   "metadata": {},
   "outputs": [
    {
     "data": {
      "text/plain": [
       "array([[[[1., 1., 1.],\n",
       "         [0., 1., 0.],\n",
       "         [0., 0., 0.],\n",
       "         [1., 0., 1.]],\n",
       "\n",
       "        [[0., 0., 0.],\n",
       "         [1., 0., 1.],\n",
       "         [1., 0., 0.],\n",
       "         [0., 0., 0.]],\n",
       "\n",
       "        [[0., 0., 0.],\n",
       "         [0., 0., 0.],\n",
       "         [0., 1., 0.],\n",
       "         [0., 0., 0.]],\n",
       "\n",
       "        [[0., 0., 0.],\n",
       "         [0., 0., 0.],\n",
       "         [0., 0., 1.],\n",
       "         [0., 1., 0.]]]])"
      ]
     },
     "execution_count": 60,
     "metadata": {},
     "output_type": "execute_result"
    }
   ],
   "source": [
    "test = leftTerminator_tensor & Dmid_tensor\n",
    "test_ = test ^ ...\n",
    "test_.data"
   ]
  },
  {
   "cell_type": "code",
   "execution_count": 65,
   "metadata": {},
   "outputs": [
    {
     "data": {
      "text/plain": [
       "array([[1., 0., 0., 0., 0., 0., 0., 0., 0., 1., 0., 0., 0., 0., 0., 1.,\n",
       "        0., 0., 1., 0., 0., 0., 0., 0., 0., 0., 0., 0., 0., 0., 0., 1.,\n",
       "        0., 0., 0., 0., 0., 0., 0., 0., 0., 0., 0., 0., 1., 0., 0., 0.],\n",
       "       [0., 1., 0., 0., 1., 0., 0., 0., 0., 0., 0., 0., 0., 0., 0., 0.,\n",
       "        0., 1., 0., 0., 0., 0., 0., 0., 0., 0., 0., 0., 0., 0., 0., 0.,\n",
       "        0., 0., 0., 0., 0., 0., 0., 0., 0., 0., 0., 0., 0., 0., 0., 0.],\n",
       "       [0., 0., 1., 0., 0., 0., 0., 0., 0., 0., 0., 1., 0., 0., 0., 0.,\n",
       "        0., 0., 0., 0., 0., 0., 0., 0., 0., 0., 0., 0., 0., 0., 0., 0.,\n",
       "        0., 0., 0., 0., 0., 0., 0., 0., 0., 0., 0., 0., 0., 0., 1., 0.]])"
      ]
     },
     "execution_count": 65,
     "metadata": {},
     "output_type": "execute_result"
    }
   ],
   "source": [
    "Dmid_array.reshape((4, 3, 4, 3)).transpose((1, 0, 2, 3)).reshape((3, -1))\n"
   ]
  },
  {
   "cell_type": "code",
   "execution_count": 39,
   "metadata": {},
   "outputs": [
    {
     "data": {
      "image/png": "[encoded data removed]",
      "text/plain": [
       "<Figure size 600x600 with 1 Axes>"
      ]
     },
     "metadata": {},
     "output_type": "display_data"
    }
   ],
   "source": [
    "test = np.ones(2**8).reshape((4, 4, 4, 4))\n",
    "test_L = test[0, :, :, :]\n",
    "test_R = test[:, :, :, 0]\n",
    "test_all = (test_L, test, test_R)\n",
    "qu.tensor.MatrixProductOperator(test_all).draw()"
   ]
  },
  {
   "cell_type": "code",
   "execution_count": 26,
   "metadata": {},
   "outputs": [],
   "source": [
    "A = qu.tensor.MPO_rand_herm(20, bond_dim=7, tags=['HAM'])"
   ]
  },
  {
   "cell_type": "code",
   "execution_count": 37,
   "metadata": {},
   "outputs": [
    {
     "data": {
      "text/plain": [
       "(7, 2, 2)"
      ]
     },
     "execution_count": 37,
     "metadata": {},
     "output_type": "execute_result"
    }
   ],
   "source": [
    "A.arrays[0].shape"
   ]
  },
  {
   "cell_type": "code",
   "execution_count": 8,
   "metadata": {},
   "outputs": [],
   "source": [
    "dx_block = np.array([[0, 1, 0, -1], [1, 0, -1, 0], [0, 1, 0, -1], [-1, 0, 1, 0]])\n",
    "dx_2d_array = np.tensordot(np.eye(4), dx_block, axes=0)"
   ]
  },
  {
   "cell_type": "code",
   "execution_count": 9,
   "metadata": {},
   "outputs": [
    {
     "data": {
      "text/plain": [
       "array([[[[ 0.,  1.,  0., -1.],\n",
       "         [ 1.,  0., -1.,  0.],\n",
       "         [ 0.,  1.,  0., -1.],\n",
       "         [-1.,  0.,  1.,  0.]],\n",
       "\n",
       "        [[ 0.,  0.,  0.,  0.],\n",
       "         [ 0.,  0.,  0.,  0.],\n",
       "         [ 0.,  0.,  0.,  0.],\n",
       "         [ 0.,  0.,  0.,  0.]],\n",
       "\n",
       "        [[ 0.,  0.,  0.,  0.],\n",
       "         [ 0.,  0.,  0.,  0.],\n",
       "         [ 0.,  0.,  0.,  0.],\n",
       "         [ 0.,  0.,  0.,  0.]],\n",
       "\n",
       "        [[ 0.,  0.,  0.,  0.],\n",
       "         [ 0.,  0.,  0.,  0.],\n",
       "         [ 0.,  0.,  0.,  0.],\n",
       "         [ 0.,  0.,  0.,  0.]]],\n",
       "\n",
       "\n",
       "       [[[ 0.,  0.,  0.,  0.],\n",
       "         [ 0.,  0.,  0.,  0.],\n",
       "         [ 0.,  0.,  0.,  0.],\n",
       "         [ 0.,  0.,  0.,  0.]],\n",
       "\n",
       "        [[ 0.,  1.,  0., -1.],\n",
       "         [ 1.,  0., -1.,  0.],\n",
       "         [ 0.,  1.,  0., -1.],\n",
       "         [-1.,  0.,  1.,  0.]],\n",
       "\n",
       "        [[ 0.,  0.,  0.,  0.],\n",
       "         [ 0.,  0.,  0.,  0.],\n",
       "         [ 0.,  0.,  0.,  0.],\n",
       "         [ 0.,  0.,  0.,  0.]],\n",
       "\n",
       "        [[ 0.,  0.,  0.,  0.],\n",
       "         [ 0.,  0.,  0.,  0.],\n",
       "         [ 0.,  0.,  0.,  0.],\n",
       "         [ 0.,  0.,  0.,  0.]]],\n",
       "\n",
       "\n",
       "       [[[ 0.,  0.,  0.,  0.],\n",
       "         [ 0.,  0.,  0.,  0.],\n",
       "         [ 0.,  0.,  0.,  0.],\n",
       "         [ 0.,  0.,  0.,  0.]],\n",
       "\n",
       "        [[ 0.,  0.,  0.,  0.],\n",
       "         [ 0.,  0.,  0.,  0.],\n",
       "         [ 0.,  0.,  0.,  0.],\n",
       "         [ 0.,  0.,  0.,  0.]],\n",
       "\n",
       "        [[ 0.,  1.,  0., -1.],\n",
       "         [ 1.,  0., -1.,  0.],\n",
       "         [ 0.,  1.,  0., -1.],\n",
       "         [-1.,  0.,  1.,  0.]],\n",
       "\n",
       "        [[ 0.,  0.,  0.,  0.],\n",
       "         [ 0.,  0.,  0.,  0.],\n",
       "         [ 0.,  0.,  0.,  0.],\n",
       "         [ 0.,  0.,  0.,  0.]]],\n",
       "\n",
       "\n",
       "       [[[ 0.,  0.,  0.,  0.],\n",
       "         [ 0.,  0.,  0.,  0.],\n",
       "         [ 0.,  0.,  0.,  0.],\n",
       "         [ 0.,  0.,  0.,  0.]],\n",
       "\n",
       "        [[ 0.,  0.,  0.,  0.],\n",
       "         [ 0.,  0.,  0.,  0.],\n",
       "         [ 0.,  0.,  0.,  0.],\n",
       "         [ 0.,  0.,  0.,  0.]],\n",
       "\n",
       "        [[ 0.,  0.,  0.,  0.],\n",
       "         [ 0.,  0.,  0.,  0.],\n",
       "         [ 0.,  0.,  0.,  0.],\n",
       "         [ 0.,  0.,  0.,  0.]],\n",
       "\n",
       "        [[ 0.,  1.,  0., -1.],\n",
       "         [ 1.,  0., -1.,  0.],\n",
       "         [ 0.,  1.,  0., -1.],\n",
       "         [-1.,  0.,  1.,  0.]]]])"
      ]
     },
     "execution_count": 9,
     "metadata": {},
     "output_type": "execute_result"
    }
   ],
   "source": [
    "dx_2d_array"
   ]
  },
  {
   "cell_type": "code",
   "execution_count": null,
   "metadata": {},
   "outputs": [],
   "source": []
  }
 ],
 "metadata": {
  "kernelspec": {
   "display_name": "Python 3.9.16 ('num_39')",
   "language": "python",
   "name": "python3"
  },
  "language_info": {
   "codemirror_mode": {
    "name": "ipython",
    "version": 3
   },
   "file_extension": ".py",
   "mimetype": "text/x-python",
   "name": "python",
   "nbconvert_exporter": "python",
   "pygments_lexer": "ipython3",
   "version": "3.9.16"
  },
  "orig_nbformat": 4,
  "vscode": {
   "interpreter": {
    "hash": "c2db0e276266533f8ecc4fc8b55aee1e8e7aba85ac1f10f991c1e9c8ddfbe4ff"
   }
  }
 },
 "nbformat": 4,
 "nbformat_minor": 2
}
