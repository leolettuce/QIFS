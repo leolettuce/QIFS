{
 "cells": [
  {
   "cell_type": "code",
   "execution_count": 1,
   "metadata": {},
   "outputs": [
    {
     "name": "stderr",
     "output_type": "stream",
     "text": [
      "OMP: Info #276: omp_set_nested routine deprecated, please use omp_set_max_active_levels instead.\n"
     ]
    }
   ],
   "source": [
    "import quimb as qu\n",
    "import numpy as np"
   ]
  },
  {
   "cell_type": "code",
   "execution_count": null,
   "metadata": {},
   "outputs": [],
   "source": [
    "np.zeros"
   ]
  },
  {
   "cell_type": "code",
   "execution_count": 264,
   "metadata": {},
   "outputs": [],
   "source": [
    "test_1 = qu.tensor.MPS_rand_state(L=3, bond_dim=5)\n",
    "test_2 = qu.tensor.MPS_rand_state(L=3, bond_dim=5)\n",
    "test_mpo = qu.tensor.MPO_rand_herm(L=3, bond_dim=5)"
   ]
  },
  {
   "cell_type": "code",
   "execution_count": 322,
   "metadata": {},
   "outputs": [],
   "source": [
    "test_1.right_canonize()\n",
    "test_2.right_canonize()\n",
    "test_1.shift_orthogonality_center(0, 1)\n",
    "test_2.shift_orthogonality_center(0, 1)"
   ]
  },
  {
   "cell_type": "code",
   "execution_count": 177,
   "metadata": {},
   "outputs": [
    {
     "name": "stdout",
     "output_type": "stream",
     "text": [
      "MatrixProductState([\n",
      "    Tensor(shape=(2, 2), inds=('_46963aAAAKY', 'k0'), tags=oset(['I0'])),\n",
      "    Tensor(shape=(2, 4, 2), inds=('_46963aAAAKY', '_46963aAAAKZ', 'k1'), tags=oset(['I1'])),\n",
      "    Tensor(shape=(4, 2), inds=('_46963aAAAKZ', 'k2'), tags=oset(['I2'])),\n",
      "], L=3, max_bond=4)\n"
     ]
    }
   ],
   "source": [
    "test_2.align_(test_mpo, test_1)\n",
    "print(test_2)"
   ]
  },
  {
   "cell_type": "code",
   "execution_count": 168,
   "metadata": {},
   "outputs": [
    {
     "data": {
      "image/png": "[encoded data removed]",
      "text/plain": [
       "<Figure size 600x600 with 1 Axes>"
      ]
     },
     "metadata": {},
     "output_type": "display_data"
    }
   ],
   "source": [
    "test_3 = test_1 & test_mpo & test_2\n",
    "test_3.draw()"
   ]
  },
  {
   "cell_type": "code",
   "execution_count": 330,
   "metadata": {},
   "outputs": [],
   "source": [
    "def get_precontracted_LR_mps_mps(mps_1, mps_2, center=0):\n",
    "    n = mps_1.L\n",
    "    left_networks = [1]*n\n",
    "    right_networks = [1]*n\n",
    "\n",
    "    # from left to right\n",
    "    for i in range(center):\n",
    "        if i == 0:\n",
    "            A = mps_1[0].copy()\n",
    "            B = mps_2[0].copy()\n",
    "\n",
    "            tn = A | B\n",
    "            qu.tensor.connect(A, B, 1, 1)\n",
    "            F = tn ^...\n",
    "\n",
    "        elif i == n-1:\n",
    "            A = mps_1[n-1].copy()\n",
    "            B = mps_2[n-1].copy()\n",
    "\n",
    "            tn = A | F\n",
    "            qu.tensor.connect(A, F, 0, 0)\n",
    "            AF = tn ^ ...\n",
    "            tn = AF | B\n",
    "            qu.tensor.connect(AF, B, 0, 1)\n",
    "            qu.tensor.connect(AF, B, 1, 0)\n",
    "            F = tn ^...\n",
    "        \n",
    "        else:\n",
    "            A = mps_1[i].copy()\n",
    "            B = mps_2[i].copy()\n",
    "\n",
    "            tn = A | F\n",
    "            qu.tensor.connect(A, F, 0, 0)\n",
    "            AF = tn ^ ...\n",
    "            tn = AF | B\n",
    "            qu.tensor.connect(AF, B, 1, 2)\n",
    "            qu.tensor.connect(AF, B, 2, 0)\n",
    "            FAW = tn ^ ...\n",
    "        \n",
    "        left_networks[i+1] = F\n",
    "    \n",
    "    # from right to left\n",
    "    for i in range(n-1, center, -1):\n",
    "        if i == n-1:\n",
    "            A = mps_1[n-1].copy()\n",
    "            B = mps_2[n-1].copy()\n",
    "\n",
    "            tn = A | B \n",
    "            qu.tensor.connect(A, B, 1, 1)\n",
    "            F = tn ^...\n",
    "\n",
    "        elif i == 0:\n",
    "            A = mps_1[0].copy()\n",
    "            B = mps_2[0].copy()\n",
    "\n",
    "            tn = A | F\n",
    "            qu.tensor.connect(A, F, 0, 0)\n",
    "            AF = tn ^ ...\n",
    "            tn = AF | B\n",
    "            qu.tensor.connect(AF, B, 0, 1)\n",
    "            qu.tensor.connect(AF, B, 1, 0)      \n",
    "            F = tn ^...\n",
    "        \n",
    "        else:\n",
    "            A = mps_1[i].copy()\n",
    "            B = mps_2[i].copy()\n",
    "\n",
    "            tn = A | F\n",
    "            qu.tensor.connect(A, F, 1, 0)\n",
    "            AF = tn ^ ...\n",
    "            tn = AF | B\n",
    "            qu.tensor.connect(AF, B, 1, 2)\n",
    "            qu.tensor.connect(AF, B, 2, 1)\n",
    "            F = tn ^...\n",
    "        \n",
    "        right_networks[i-1] = F\n",
    "\n",
    "    return left_networks, right_networks"
   ]
  },
  {
   "cell_type": "code",
   "execution_count": 331,
   "metadata": {},
   "outputs": [],
   "source": [
    "def get_precontracted_LR_mps_mpo(mps_1, mpo, mps_2, center=0):\n",
    "    n = mps_1.L\n",
    "    left_networks = [1]*n\n",
    "    right_networks = [1]*n\n",
    "\n",
    "    # from left to right\n",
    "    for i in range(center):\n",
    "        if i == 0:\n",
    "            A = mps_1[0].copy()\n",
    "            B = mps_2[0].copy()\n",
    "            W = mpo[0].copy()\n",
    "\n",
    "            tn = A | W \n",
    "            qu.tensor.connect(A, W, 1, 1)\n",
    "            AW = tn ^ ...\n",
    "            tn = AW | B\n",
    "            qu.tensor.connect(AW, B, 2, 1)\n",
    "            F = tn ^...\n",
    "\n",
    "        elif i == n-1:\n",
    "            A = mps_1[n-1].copy()\n",
    "            B = mps_2[n-1].copy()\n",
    "            W = mpo[n-1].copy()\n",
    "\n",
    "            tn = A | F\n",
    "            qu.tensor.connect(A, F, 0, 0)\n",
    "            AF = tn ^ ...\n",
    "            tn = AF | W\n",
    "            qu.tensor.connect(AF, W, 0, 1)\n",
    "            qu.tensor.connect(AF, W, 1, 0)\n",
    "            FAW = tn ^...\n",
    "            tn = FAW | B\n",
    "            qu.tensor.connect(FAW, B, 1, 1)\n",
    "            qu.tensor.connect(FAW, B, 0, 0)\n",
    "            F = tn ^...\n",
    "        \n",
    "        else:\n",
    "            A = mps_1[i].copy()\n",
    "            B = mps_2[i].copy()\n",
    "            W = mpo[i].copy()\n",
    "\n",
    "            tn = A | F\n",
    "            qu.tensor.connect(A, F, 0, 0)\n",
    "            AF = tn ^ ...\n",
    "            tn = AF | W\n",
    "            qu.tensor.connect(AF, W, 1, 2)\n",
    "            qu.tensor.connect(AF, W, 2, 0)\n",
    "            FAW = tn ^ ...\n",
    "            tn = FAW | B\n",
    "            qu.tensor.connect(FAW, B, 3, 2)\n",
    "            qu.tensor.connect(FAW, B, 1, 0)\n",
    "            F = tn ^...\n",
    "        \n",
    "        left_networks[i+1] = F\n",
    "\n",
    "    # from right to left\n",
    "    for i in range(n-1, center, -1):\n",
    "        if i == n-1:\n",
    "            A = mps_1[n-1].copy()\n",
    "            B = mps_2[n-1].copy()\n",
    "            W = mpo[n-1].copy()\n",
    "\n",
    "            tn = A | W \n",
    "            qu.tensor.connect(A, W, 1, 1)\n",
    "            AW = tn ^ ...\n",
    "            tn = AW | B\n",
    "            qu.tensor.connect(AW, B, 2, 1)\n",
    "            F = tn ^...\n",
    "\n",
    "        elif i == 0:\n",
    "            A = mps_1[0].copy()\n",
    "            B = mps_2[0].copy()\n",
    "            W = mpo[0].copy()\n",
    "\n",
    "            tn = A | F\n",
    "            qu.tensor.connect(A, F, 0, 0)\n",
    "            AF = tn ^ ...\n",
    "            tn = AF | W\n",
    "            qu.tensor.connect(AF, W, 0, 1)\n",
    "            qu.tensor.connect(AF, W, 1, 0)\n",
    "            FAW = tn ^...\n",
    "            tn = FAW | B\n",
    "            qu.tensor.connect(FAW, B, 1, 1)\n",
    "            qu.tensor.connect(FAW, B, 0, 0)\n",
    "            F = tn ^...\n",
    "        \n",
    "        else:\n",
    "            A = mps_1[i].copy()\n",
    "            B = mps_2[i].copy()\n",
    "            W = mpo[i].copy()\n",
    "\n",
    "            tn = A | F\n",
    "            qu.tensor.connect(A, F, 1, 0)\n",
    "            AF = tn ^ ...\n",
    "            tn = AF | W\n",
    "            qu.tensor.connect(AF, W, 1, 2)\n",
    "            qu.tensor.connect(AF, W, 2, 1)\n",
    "            FAW = tn ^ ...\n",
    "            tn = FAW | B\n",
    "            qu.tensor.connect(FAW, B, 3, 2)\n",
    "            qu.tensor.connect(FAW, B, 1, 1)\n",
    "            F = tn ^...\n",
    "        \n",
    "        right_networks[i-1] = F\n",
    "\n",
    "    return left_networks, right_networks"
   ]
  },
  {
   "cell_type": "code",
   "execution_count": 429,
   "metadata": {},
   "outputs": [],
   "source": [
    "l, r = get_precontracted_LR_mps_mps(test_1, test_2, 1)"
   ]
  },
  {
   "cell_type": "code",
   "execution_count": 430,
   "metadata": {},
   "outputs": [],
   "source": [
    "i = 1\n",
    "left_tn = l[i].copy()\n",
    "right_tn = r[i].copy()\n",
    "A = test_1[i].copy()\n",
    "tn = left_tn | A | right_tn\n",
    "qu.tensor.connect(left_tn, A, 0, 0)\n",
    "qu.tensor.connect(right_tn, A, 0, 1)"
   ]
  },
  {
   "cell_type": "code",
   "execution_count": 431,
   "metadata": {},
   "outputs": [
    {
     "data": {
      "image/png": "[encoded data removed]",
      "text/plain": [
       "<Figure size 600x600 with 1 Axes>"
      ]
     },
     "metadata": {},
     "output_type": "display_data"
    }
   ],
   "source": [
    "tn.draw()"
   ]
  },
  {
   "cell_type": "code",
   "execution_count": 432,
   "metadata": {},
   "outputs": [
    {
     "data": {
      "text/plain": [
       "Tensor(shape=(2, 2, 2), inds=('_46963aAAATW', 'k1', '_46963aAAATX'), tags=oset(['I0', 'I1', 'I2']))"
      ]
     },
     "execution_count": 432,
     "metadata": {},
     "output_type": "execute_result"
    }
   ],
   "source": [
    "tn.contract()"
   ]
  },
  {
   "cell_type": "code",
   "execution_count": 394,
   "metadata": {},
   "outputs": [
    {
     "name": "stdout",
     "output_type": "stream",
     "text": [
      "2\n",
      "saved\n"
     ]
    }
   ],
   "source": [
    "l, r = get_precontracted_LR_mps_mpo(test_1, test_mpo, test_2, 1)"
   ]
  },
  {
   "cell_type": "code",
   "execution_count": 395,
   "metadata": {},
   "outputs": [],
   "source": [
    "i = 1\n",
    "left_tn = l[i].copy()\n",
    "right_tn = r[i].copy()\n",
    "W = test_mpo[i].copy()\n",
    "tn = left_tn | W | right_tn\n",
    "qu.tensor.connect(W, left_tn, 0, 1)\n",
    "qu.tensor.connect(W, right_tn, 1, 1)\n",
    "temp = tn^...\n",
    "temp = temp.fuse({'MUS': temp.inds[::2], 'LDR': temp.inds[1::2]}).data"
   ]
  },
  {
   "cell_type": "code",
   "execution_count": 397,
   "metadata": {},
   "outputs": [],
   "source": [
    "F = left_tn.copy()\n",
    "B = test_2[1].copy()\n",
    "W = test_mpo[1].copy()\n",
    "A = test_1[1].copy()\n"
   ]
  },
  {
   "cell_type": "code",
   "execution_count": 398,
   "metadata": {},
   "outputs": [
    {
     "data": {
      "text/plain": [
       "Tensor(shape=(2, 2, 2), inds=('_46963aAAATS', '_46963aAAATT', 'k1'), tags=oset(['I1']))"
      ]
     },
     "execution_count": 398,
     "metadata": {},
     "output_type": "execute_result"
    }
   ],
   "source": [
    "tn = left_tn | B | W | A\n",
    "qu.tensor.connect(left_tn, mps_1_t, 0, 0)"
   ]
  },
  {
   "cell_type": "code",
   "execution_count": 370,
   "metadata": {},
   "outputs": [
    {
     "data": {
      "image/png": "[encoded data removed]",
      "text/plain": [
       "<Figure size 600x600 with 1 Axes>"
      ]
     },
     "metadata": {},
     "output_type": "display_data"
    }
   ],
   "source": [
    "tn.draw()"
   ]
  },
  {
   "cell_type": "code",
   "execution_count": 371,
   "metadata": {},
   "outputs": [
    {
     "name": "stdout",
     "output_type": "stream",
     "text": [
      "Tensor(shape=(2, 5, 2), inds=('_46963aAAATS', '_46963aAAAUi', '_46963aAAATW'), tags=oset(['I0']), backend='numpy', dtype='float64')\n"
     ]
    }
   ],
   "source": [
    "print(left_tn)"
   ]
  },
  {
   "cell_type": "code",
   "execution_count": 372,
   "metadata": {},
   "outputs": [
    {
     "name": "stdout",
     "output_type": "stream",
     "text": [
      "Tensor(shape=(2, 5, 2), inds=('_46963aAAATT', '_46963aAAAUj', '_46963aAAATX'), tags=oset(['I2']), backend='numpy', dtype='float64')\n"
     ]
    }
   ],
   "source": [
    "print(right_tn)"
   ]
  },
  {
   "cell_type": "code",
   "execution_count": 378,
   "metadata": {},
   "outputs": [
    {
     "name": "stdout",
     "output_type": "stream",
     "text": [
      "Tensor(shape=(5, 5, 2, 2), inds=('_46963aAAAUi', '_46963aAAAUj', 'k1', 'b1'), tags=oset(['I1']), backend='numpy', dtype='float64')\n"
     ]
    }
   ],
   "source": [
    "print(W)"
   ]
  },
  {
   "cell_type": "code",
   "execution_count": 377,
   "metadata": {},
   "outputs": [
    {
     "name": "stdout",
     "output_type": "stream",
     "text": [
      "('_46963aAAATS', '_46963aAAATW', 'k1', 'b1', '_46963aAAATT', '_46963aAAATX')\n"
     ]
    }
   ],
   "source": [
    "print((tn^...).inds)"
   ]
  },
  {
   "cell_type": "code",
   "execution_count": 380,
   "metadata": {},
   "outputs": [
    {
     "data": {
      "text/plain": [
       "('_46963aAAATS', 'k1', '_46963aAAATT')"
      ]
     },
     "execution_count": 380,
     "metadata": {},
     "output_type": "execute_result"
    }
   ],
   "source": [
    "(tn^...).inds[::2]"
   ]
  },
  {
   "cell_type": "code",
   "execution_count": 381,
   "metadata": {},
   "outputs": [
    {
     "data": {
      "text/plain": [
       "('_46963aAAATW', 'b1', '_46963aAAATX')"
      ]
     },
     "execution_count": 381,
     "metadata": {},
     "output_type": "execute_result"
    }
   ],
   "source": [
    "(tn^...).inds[1::2]"
   ]
  },
  {
   "cell_type": "code",
   "execution_count": 386,
   "metadata": {},
   "outputs": [],
   "source": [
    "a = np.arange(3)"
   ]
  },
  {
   "cell_type": "code",
   "execution_count": 389,
   "metadata": {},
   "outputs": [
    {
     "data": {
      "text/plain": [
       "array([0, 1, 2, 0, 1, 2])"
      ]
     },
     "execution_count": 389,
     "metadata": {},
     "output_type": "execute_result"
    }
   ],
   "source": [
    "np.concatenate((a, a))"
   ]
  },
  {
   "cell_type": "code",
   "execution_count": 353,
   "metadata": {},
   "outputs": [],
   "source": [
    "tn_1 = tn.copy()\n",
    "tn_2 = tn.copy()"
   ]
  },
  {
   "cell_type": "code",
   "execution_count": 359,
   "metadata": {},
   "outputs": [],
   "source": [
    "tn_3 = tn_1^..."
   ]
  },
  {
   "cell_type": "code",
   "execution_count": 367,
   "metadata": {},
   "outputs": [
    {
     "data": {
      "text/plain": [
       "array([-0.63857501,  0.2987523 , -0.03033445,  0.06378261,  0.00509401,\n",
       "        0.20408559, -0.58454377,  0.33854441])"
      ]
     },
     "execution_count": 367,
     "metadata": {},
     "output_type": "execute_result"
    }
   ],
   "source": [
    "tn_3.fuse({'LDR': tn_3.inds}).data"
   ]
  },
  {
   "cell_type": "code",
   "execution_count": 390,
   "metadata": {},
   "outputs": [
    {
     "name": "stdout",
     "output_type": "stream",
     "text": [
      "MatrixProductState([\n",
      "    Tensor(shape=(2, 2), inds=('_46963aAAATS', 'k0'), tags=oset(['I0'])),\n",
      "    Tensor(shape=(2, 2, 2), inds=('_46963aAAATS', '_46963aAAATT', 'k1'), tags=oset(['I1'])),\n",
      "    Tensor(shape=(2, 2), inds=('_46963aAAATT', 'k2'), tags=oset(['I2'])),\n",
      "], L=3, max_bond=2)\n"
     ]
    }
   ],
   "source": [
    "print(test_1)"
   ]
  },
  {
   "cell_type": "code",
   "execution_count": 409,
   "metadata": {},
   "outputs": [],
   "source": [
    "dummy_t = np.ones((1, 1, 1))"
   ]
  },
  {
   "cell_type": "code",
   "execution_count": 425,
   "metadata": {},
   "outputs": [],
   "source": [
    "a = (1, 3, 2)"
   ]
  },
  {
   "cell_type": "code",
   "execution_count": 427,
   "metadata": {},
   "outputs": [],
   "source": [
    "b = (a[0], a[2], a[1])"
   ]
  },
  {
   "cell_type": "code",
   "execution_count": 428,
   "metadata": {},
   "outputs": [
    {
     "data": {
      "text/plain": [
       "(1, 2, 3)"
      ]
     },
     "execution_count": 428,
     "metadata": {},
     "output_type": "execute_result"
    }
   ],
   "source": [
    "b"
   ]
  },
  {
   "cell_type": "code",
   "execution_count": 257,
   "metadata": {},
   "outputs": [
    {
     "name": "stdout",
     "output_type": "stream",
     "text": [
      "Tensor(shape=(512, 1024, 512), inds=('_46963aAAANs', '_46963aAAAOc', '_46963aAAAOK'), tags=oset(['I1', 'I2', 'I3', 'I4', 'I5', 'I6', 'I7', 'I8', 'I9']), backend='numpy', dtype='float64')\n"
     ]
    }
   ],
   "source": [
    "print(r[0])"
   ]
  },
  {
   "cell_type": "code",
   "execution_count": 245,
   "metadata": {},
   "outputs": [
    {
     "data": {
      "text/plain": [
       "[Tensor(shape=(5, 5, 5), inds=('_46963aAAALZ', '_46963aAAAMJ', '_46963aAAALr'), tags=oset(['I1', 'I2', 'I3', 'I4', 'I5', 'I6', 'I7', 'I8', 'I9'])),\n",
       " Tensor(shape=(5, 5, 5), inds=('_46963aAAANn', '_46963aAAAMK', '_46963aAAALs'), tags=oset(['I2', 'I3', 'I4', 'I5', 'I6', 'I7', 'I8', 'I9'])),\n",
       " Tensor(shape=(5, 5, 5), inds=('_46963aAAANi', '_46963aAAAML', '_46963aAAALt'), tags=oset(['I3', 'I4', 'I5', 'I6', 'I7', 'I8', 'I9'])),\n",
       " Tensor(shape=(5, 5, 5), inds=('_46963aAAANd', '_46963aAAAMM', '_46963aAAALu'), tags=oset(['I4', 'I5', 'I6', 'I7', 'I8', 'I9'])),\n",
       " Tensor(shape=(5, 5, 5), inds=('_46963aAAANY', '_46963aAAAMN', '_46963aAAALv'), tags=oset(['I5', 'I6', 'I7', 'I8', 'I9'])),\n",
       " Tensor(shape=(5, 5, 5), inds=('_46963aAAANT', '_46963aAAAMO', '_46963aAAALw'), tags=oset(['I6', 'I7', 'I8', 'I9'])),\n",
       " Tensor(shape=(5, 5, 5), inds=('_46963aAAANO', '_46963aAAAMP', '_46963aAAALx'), tags=oset(['I7', 'I8', 'I9'])),\n",
       " Tensor(shape=(4, 5, 4), inds=('_46963aAAANJ', '_46963aAAAMQ', '_46963aAAALy'), tags=oset(['I8', 'I9'])),\n",
       " Tensor(shape=(2, 5, 2), inds=('_46963aAAANE', '_46963aAAAMR', '_46963aAAALz'), tags=oset(['I9'])),\n",
       " 1]"
      ]
     },
     "execution_count": 245,
     "metadata": {},
     "output_type": "execute_result"
    }
   ],
   "source": [
    "r"
   ]
  },
  {
   "cell_type": "markdown",
   "metadata": {},
   "source": [
    "# mps mps"
   ]
  },
  {
   "cell_type": "code",
   "execution_count": 291,
   "metadata": {},
   "outputs": [],
   "source": [
    "A = test_1[2].copy()\n",
    "B = test_2[2].copy()"
   ]
  },
  {
   "cell_type": "code",
   "execution_count": 292,
   "metadata": {},
   "outputs": [],
   "source": [
    "tn = A | B "
   ]
  },
  {
   "cell_type": "code",
   "execution_count": 294,
   "metadata": {},
   "outputs": [],
   "source": [
    "qu.tensor.connect(A, B, 1, 1)"
   ]
  },
  {
   "cell_type": "code",
   "execution_count": 295,
   "metadata": {},
   "outputs": [],
   "source": [
    "F = tn ^..."
   ]
  },
  {
   "cell_type": "code",
   "execution_count": 296,
   "metadata": {},
   "outputs": [],
   "source": [
    "A = test_1[1].copy()\n",
    "B = test_2[1].copy()"
   ]
  },
  {
   "cell_type": "code",
   "execution_count": 297,
   "metadata": {},
   "outputs": [],
   "source": [
    "tn = A | F "
   ]
  },
  {
   "cell_type": "code",
   "execution_count": 299,
   "metadata": {},
   "outputs": [],
   "source": [
    "qu.tensor.connect(A, F, 1, 0)"
   ]
  },
  {
   "cell_type": "code",
   "execution_count": 300,
   "metadata": {},
   "outputs": [],
   "source": [
    "AF = tn ^..."
   ]
  },
  {
   "cell_type": "code",
   "execution_count": 301,
   "metadata": {},
   "outputs": [],
   "source": [
    "tn = AF | B"
   ]
  },
  {
   "cell_type": "code",
   "execution_count": 303,
   "metadata": {},
   "outputs": [],
   "source": [
    "qu.tensor.connect(AF, B, 1, 2)\n",
    "qu.tensor.connect(AF, B, 2, 1)"
   ]
  },
  {
   "cell_type": "code",
   "execution_count": 304,
   "metadata": {},
   "outputs": [],
   "source": [
    "F = tn ^..."
   ]
  },
  {
   "cell_type": "code",
   "execution_count": 305,
   "metadata": {},
   "outputs": [],
   "source": [
    "A = test_1[0].copy()\n",
    "B = test_2[0].copy()"
   ]
  },
  {
   "cell_type": "code",
   "execution_count": 306,
   "metadata": {},
   "outputs": [],
   "source": [
    "tn = A | F "
   ]
  },
  {
   "cell_type": "code",
   "execution_count": 308,
   "metadata": {},
   "outputs": [],
   "source": [
    "qu.tensor.connect(A, F, 0, 0)"
   ]
  },
  {
   "cell_type": "code",
   "execution_count": 309,
   "metadata": {},
   "outputs": [],
   "source": [
    "AF = tn ^..."
   ]
  },
  {
   "cell_type": "code",
   "execution_count": 310,
   "metadata": {},
   "outputs": [],
   "source": [
    "tn = AF | B"
   ]
  },
  {
   "cell_type": "code",
   "execution_count": 312,
   "metadata": {},
   "outputs": [],
   "source": [
    "qu.tensor.connect(AF, B, 0, 1)\n",
    "qu.tensor.connect(AF, B, 1, 0)"
   ]
  },
  {
   "cell_type": "code",
   "execution_count": 313,
   "metadata": {},
   "outputs": [],
   "source": [
    "F = tn ^..."
   ]
  },
  {
   "cell_type": "code",
   "execution_count": 314,
   "metadata": {},
   "outputs": [
    {
     "data": {
      "text/plain": [
       "0.3873951964811376"
      ]
     },
     "execution_count": 314,
     "metadata": {},
     "output_type": "execute_result"
    }
   ],
   "source": [
    "F"
   ]
  },
  {
   "cell_type": "code",
   "execution_count": 311,
   "metadata": {},
   "outputs": [
    {
     "name": "stdout",
     "output_type": "stream",
     "text": [
      "TensorNetwork([\n",
      "    Tensor(shape=(2, 4), inds=('k0', '_46963aAAATW'), tags=oset(['I0', 'I1', 'I2'])),\n",
      "    Tensor(shape=(4, 2), inds=('_46963aAAATW', 'k0'), tags=oset(['I0'])),\n",
      "])\n"
     ]
    }
   ],
   "source": [
    "print(tn)"
   ]
  },
  {
   "cell_type": "code",
   "execution_count": 266,
   "metadata": {},
   "outputs": [],
   "source": [
    "A = test_1[0].copy()\n",
    "B = test_2[0].copy()"
   ]
  },
  {
   "cell_type": "code",
   "execution_count": 267,
   "metadata": {},
   "outputs": [],
   "source": [
    "tn = A | B "
   ]
  },
  {
   "cell_type": "code",
   "execution_count": 269,
   "metadata": {},
   "outputs": [],
   "source": [
    "qu.tensor.connect(A, B, 1, 1)"
   ]
  },
  {
   "cell_type": "code",
   "execution_count": 270,
   "metadata": {},
   "outputs": [],
   "source": [
    "F = tn ^..."
   ]
  },
  {
   "cell_type": "code",
   "execution_count": 271,
   "metadata": {},
   "outputs": [],
   "source": [
    "A = test_1[1].copy()\n",
    "B = test_2[1].copy()"
   ]
  },
  {
   "cell_type": "code",
   "execution_count": 272,
   "metadata": {},
   "outputs": [],
   "source": [
    "tn = A | F "
   ]
  },
  {
   "cell_type": "code",
   "execution_count": 274,
   "metadata": {},
   "outputs": [],
   "source": [
    "qu.tensor.connect(A, F, 0, 0)"
   ]
  },
  {
   "cell_type": "code",
   "execution_count": 275,
   "metadata": {},
   "outputs": [],
   "source": [
    "AF = tn ^..."
   ]
  },
  {
   "cell_type": "code",
   "execution_count": 276,
   "metadata": {},
   "outputs": [],
   "source": [
    "tn = AF | B"
   ]
  },
  {
   "cell_type": "code",
   "execution_count": 278,
   "metadata": {},
   "outputs": [],
   "source": [
    "qu.tensor.connect(AF, B, 1, 2)\n",
    "qu.tensor.connect(AF, B, 2, 0)"
   ]
  },
  {
   "cell_type": "code",
   "execution_count": 279,
   "metadata": {},
   "outputs": [],
   "source": [
    "F = tn ^..."
   ]
  },
  {
   "cell_type": "code",
   "execution_count": 280,
   "metadata": {},
   "outputs": [],
   "source": [
    "A = test_1[2].copy()\n",
    "B = test_2[2].copy()"
   ]
  },
  {
   "cell_type": "code",
   "execution_count": 281,
   "metadata": {},
   "outputs": [],
   "source": [
    "tn = A | F "
   ]
  },
  {
   "cell_type": "code",
   "execution_count": 282,
   "metadata": {},
   "outputs": [],
   "source": [
    "qu.tensor.connect(A, F, 0, 0)"
   ]
  },
  {
   "cell_type": "code",
   "execution_count": 284,
   "metadata": {},
   "outputs": [],
   "source": [
    "AF = tn ^..."
   ]
  },
  {
   "cell_type": "code",
   "execution_count": 285,
   "metadata": {},
   "outputs": [],
   "source": [
    "tn = AF | B"
   ]
  },
  {
   "cell_type": "code",
   "execution_count": 287,
   "metadata": {},
   "outputs": [],
   "source": [
    "qu.tensor.connect(AF, B, 0, 1)\n",
    "qu.tensor.connect(AF, B, 1, 0)"
   ]
  },
  {
   "cell_type": "code",
   "execution_count": 288,
   "metadata": {},
   "outputs": [],
   "source": [
    "F = tn ^..."
   ]
  },
  {
   "cell_type": "code",
   "execution_count": 289,
   "metadata": {},
   "outputs": [
    {
     "data": {
      "text/plain": [
       "0.38739519648113774"
      ]
     },
     "execution_count": 289,
     "metadata": {},
     "output_type": "execute_result"
    }
   ],
   "source": [
    "F"
   ]
  },
  {
   "cell_type": "code",
   "execution_count": 318,
   "metadata": {},
   "outputs": [
    {
     "name": "stdout",
     "output_type": "stream",
     "text": [
      "2\n",
      "1\n"
     ]
    }
   ],
   "source": [
    "left, right = get_precontracted_LR_mps_mps(test_1, test_2)"
   ]
  },
  {
   "cell_type": "code",
   "execution_count": 320,
   "metadata": {},
   "outputs": [
    {
     "data": {
      "text/plain": [
       "[Tensor(shape=(4, 4), inds=('_46963aAAATS', '_46963aAAATW'), tags=oset(['I1', 'I2'])),\n",
       " Tensor(shape=(2, 2), inds=('_46963aAAAUF', '_46963aAAATX'), tags=oset(['I2'])),\n",
       " 1]"
      ]
     },
     "execution_count": 320,
     "metadata": {},
     "output_type": "execute_result"
    }
   ],
   "source": [
    "right"
   ]
  },
  {
   "cell_type": "code",
   "execution_count": 290,
   "metadata": {},
   "outputs": [
    {
     "data": {
      "text/plain": [
       "0.3873951964811375"
      ]
     },
     "execution_count": 290,
     "metadata": {},
     "output_type": "execute_result"
    }
   ],
   "source": [
    "ver = test_1 & test_2\n",
    "ver ^..."
   ]
  },
  {
   "cell_type": "markdown",
   "metadata": {},
   "source": [
    "# right to left"
   ]
  },
  {
   "cell_type": "code",
   "execution_count": 227,
   "metadata": {},
   "outputs": [],
   "source": [
    "# if -1"
   ]
  },
  {
   "cell_type": "code",
   "execution_count": 228,
   "metadata": {},
   "outputs": [],
   "source": [
    "A = test_1[2].copy()\n",
    "B = test_2[2].copy()\n",
    "W = test_mpo[2].copy()"
   ]
  },
  {
   "cell_type": "code",
   "execution_count": 229,
   "metadata": {},
   "outputs": [],
   "source": [
    "tn = A | W "
   ]
  },
  {
   "cell_type": "code",
   "execution_count": 230,
   "metadata": {},
   "outputs": [],
   "source": [
    "qu.tensor.connect(A, W, 1, 1)"
   ]
  },
  {
   "cell_type": "code",
   "execution_count": 231,
   "metadata": {},
   "outputs": [],
   "source": [
    "AW = tn ^..."
   ]
  },
  {
   "cell_type": "code",
   "execution_count": 232,
   "metadata": {},
   "outputs": [],
   "source": [
    "tn = AW | B"
   ]
  },
  {
   "cell_type": "code",
   "execution_count": 233,
   "metadata": {},
   "outputs": [],
   "source": [
    "qu.tensor.connect(AW, B, 2, 1)"
   ]
  },
  {
   "cell_type": "code",
   "execution_count": 234,
   "metadata": {},
   "outputs": [],
   "source": [
    "F = tn ^..."
   ]
  },
  {
   "cell_type": "code",
   "execution_count": 235,
   "metadata": {},
   "outputs": [
    {
     "data": {
      "image/png": "[encoded data removed]",
      "text/plain": [
       "<Figure size 600x600 with 1 Axes>"
      ]
     },
     "metadata": {},
     "output_type": "display_data"
    }
   ],
   "source": [
    "F.draw()"
   ]
  },
  {
   "cell_type": "code",
   "execution_count": 189,
   "metadata": {},
   "outputs": [],
   "source": [
    "# in between"
   ]
  },
  {
   "cell_type": "code",
   "execution_count": 190,
   "metadata": {},
   "outputs": [],
   "source": [
    "A = test_1[1].copy()\n",
    "B = test_2[1].copy()\n",
    "W = test_mpo[1].copy()"
   ]
  },
  {
   "cell_type": "code",
   "execution_count": 191,
   "metadata": {},
   "outputs": [],
   "source": [
    "tn = A | F"
   ]
  },
  {
   "cell_type": "code",
   "execution_count": 195,
   "metadata": {},
   "outputs": [],
   "source": [
    "qu.tensor.connect(A, F, 1, 0)"
   ]
  },
  {
   "cell_type": "code",
   "execution_count": 196,
   "metadata": {},
   "outputs": [],
   "source": [
    "AF = tn ^ ..."
   ]
  },
  {
   "cell_type": "code",
   "execution_count": 197,
   "metadata": {},
   "outputs": [],
   "source": [
    "tn = AF | W"
   ]
  },
  {
   "cell_type": "code",
   "execution_count": 199,
   "metadata": {},
   "outputs": [],
   "source": [
    "qu.tensor.connect(AF, W, 1, 2)\n",
    "qu.tensor.connect(AF, W, 2, 1)"
   ]
  },
  {
   "cell_type": "code",
   "execution_count": 200,
   "metadata": {},
   "outputs": [],
   "source": [
    "FAW = tn ^ ..."
   ]
  },
  {
   "cell_type": "code",
   "execution_count": 201,
   "metadata": {},
   "outputs": [],
   "source": [
    "tn = FAW | B"
   ]
  },
  {
   "cell_type": "code",
   "execution_count": 203,
   "metadata": {},
   "outputs": [],
   "source": [
    "qu.tensor.connect(FAW, B, 3, 2)\n",
    "qu.tensor.connect(FAW, B, 1, 1)"
   ]
  },
  {
   "cell_type": "code",
   "execution_count": 204,
   "metadata": {},
   "outputs": [],
   "source": [
    "F = tn ^..."
   ]
  },
  {
   "cell_type": "code",
   "execution_count": 205,
   "metadata": {},
   "outputs": [],
   "source": [
    "# if i = 0"
   ]
  },
  {
   "cell_type": "code",
   "execution_count": 206,
   "metadata": {},
   "outputs": [],
   "source": [
    "A = test_1[0].copy()\n",
    "B = test_2[0].copy()\n",
    "W = test_mpo[0].copy()"
   ]
  },
  {
   "cell_type": "code",
   "execution_count": 207,
   "metadata": {},
   "outputs": [],
   "source": [
    "tn = A | F"
   ]
  },
  {
   "cell_type": "code",
   "execution_count": 209,
   "metadata": {},
   "outputs": [],
   "source": [
    "qu.tensor.connect(A, F, 0, 0)"
   ]
  },
  {
   "cell_type": "code",
   "execution_count": 210,
   "metadata": {},
   "outputs": [],
   "source": [
    "AF = tn ^ ..."
   ]
  },
  {
   "cell_type": "code",
   "execution_count": 211,
   "metadata": {},
   "outputs": [],
   "source": [
    "tn = AF | W"
   ]
  },
  {
   "cell_type": "code",
   "execution_count": 213,
   "metadata": {},
   "outputs": [],
   "source": [
    "qu.tensor.connect(AF, W, 0, 1)\n",
    "qu.tensor.connect(AF, W, 1, 0)"
   ]
  },
  {
   "cell_type": "code",
   "execution_count": 214,
   "metadata": {},
   "outputs": [],
   "source": [
    "FAW = tn ^..."
   ]
  },
  {
   "cell_type": "code",
   "execution_count": 215,
   "metadata": {},
   "outputs": [],
   "source": [
    "tn = FAW | B"
   ]
  },
  {
   "cell_type": "code",
   "execution_count": 217,
   "metadata": {},
   "outputs": [],
   "source": [
    "qu.tensor.connect(FAW, B, 1, 1)\n",
    "qu.tensor.connect(FAW, B, 0, 0)"
   ]
  },
  {
   "cell_type": "code",
   "execution_count": 218,
   "metadata": {},
   "outputs": [],
   "source": [
    "F = tn ^..."
   ]
  },
  {
   "cell_type": "code",
   "execution_count": 220,
   "metadata": {},
   "outputs": [
    {
     "data": {
      "text/plain": [
       "0.12521008895398625"
      ]
     },
     "execution_count": 220,
     "metadata": {},
     "output_type": "execute_result"
    }
   ],
   "source": [
    "# result\n",
    "F"
   ]
  },
  {
   "cell_type": "markdown",
   "metadata": {},
   "source": [
    "# if 0"
   ]
  },
  {
   "cell_type": "code",
   "execution_count": 107,
   "metadata": {},
   "outputs": [],
   "source": [
    "A = test_1[0].copy()\n",
    "B = test_2[0].copy()\n",
    "W = test_mpo[0].copy()"
   ]
  },
  {
   "cell_type": "code",
   "execution_count": 108,
   "metadata": {},
   "outputs": [],
   "source": [
    "tn = A | W "
   ]
  },
  {
   "cell_type": "code",
   "execution_count": 109,
   "metadata": {},
   "outputs": [],
   "source": [
    "qu.tensor.connect(A, W, 1, 1)"
   ]
  },
  {
   "cell_type": "code",
   "execution_count": 110,
   "metadata": {},
   "outputs": [],
   "source": [
    "AW = tn ^ ..."
   ]
  },
  {
   "cell_type": "code",
   "execution_count": 111,
   "metadata": {},
   "outputs": [],
   "source": [
    "tn = AW | B"
   ]
  },
  {
   "cell_type": "code",
   "execution_count": 112,
   "metadata": {},
   "outputs": [],
   "source": [
    "qu.tensor.connect(AW, B, 2, 1)"
   ]
  },
  {
   "cell_type": "code",
   "execution_count": 113,
   "metadata": {},
   "outputs": [],
   "source": [
    "F = tn ^..."
   ]
  },
  {
   "cell_type": "markdown",
   "metadata": {},
   "source": [
    "# in between"
   ]
  },
  {
   "cell_type": "code",
   "execution_count": 130,
   "metadata": {},
   "outputs": [],
   "source": [
    "A = test_1[1].copy()\n",
    "B = test_2[1].copy()\n",
    "W = test_mpo[1].copy()"
   ]
  },
  {
   "cell_type": "code",
   "execution_count": 131,
   "metadata": {},
   "outputs": [],
   "source": [
    "tn = A | F"
   ]
  },
  {
   "cell_type": "code",
   "execution_count": 132,
   "metadata": {},
   "outputs": [],
   "source": [
    "qu.tensor.connect(A, F, 0, 0)"
   ]
  },
  {
   "cell_type": "code",
   "execution_count": 133,
   "metadata": {},
   "outputs": [],
   "source": [
    "AF = tn ^ ..."
   ]
  },
  {
   "cell_type": "code",
   "execution_count": 134,
   "metadata": {},
   "outputs": [],
   "source": [
    "tn = AF | W"
   ]
  },
  {
   "cell_type": "code",
   "execution_count": 138,
   "metadata": {},
   "outputs": [],
   "source": [
    "qu.tensor.connect(AF, W, 1, 2)\n",
    "qu.tensor.connect(AF, W, 2, 0)"
   ]
  },
  {
   "cell_type": "code",
   "execution_count": 139,
   "metadata": {},
   "outputs": [],
   "source": [
    "FAW = tn ^ ..."
   ]
  },
  {
   "cell_type": "code",
   "execution_count": 140,
   "metadata": {},
   "outputs": [],
   "source": [
    "tn = FAW | B"
   ]
  },
  {
   "cell_type": "code",
   "execution_count": 143,
   "metadata": {},
   "outputs": [],
   "source": [
    "qu.tensor.connect(FAW, B, 3, 2)\n",
    "qu.tensor.connect(FAW, B, 1, 0)"
   ]
  },
  {
   "cell_type": "code",
   "execution_count": 144,
   "metadata": {},
   "outputs": [],
   "source": [
    "F = tn ^..."
   ]
  },
  {
   "cell_type": "markdown",
   "metadata": {},
   "source": [
    "# if -1"
   ]
  },
  {
   "cell_type": "code",
   "execution_count": 145,
   "metadata": {},
   "outputs": [],
   "source": [
    "A = test_1[2].copy()\n",
    "B = test_2[2].copy()\n",
    "W = test_mpo[2].copy()"
   ]
  },
  {
   "cell_type": "code",
   "execution_count": 146,
   "metadata": {},
   "outputs": [],
   "source": [
    "tn = A | F"
   ]
  },
  {
   "cell_type": "code",
   "execution_count": 148,
   "metadata": {},
   "outputs": [],
   "source": [
    "qu.tensor.connect(A, F, 0, 0)"
   ]
  },
  {
   "cell_type": "code",
   "execution_count": 149,
   "metadata": {},
   "outputs": [],
   "source": [
    "AF = tn ^ ..."
   ]
  },
  {
   "cell_type": "code",
   "execution_count": 150,
   "metadata": {},
   "outputs": [],
   "source": [
    "tn = AF | W"
   ]
  },
  {
   "cell_type": "code",
   "execution_count": 152,
   "metadata": {},
   "outputs": [],
   "source": [
    "qu.tensor.connect(AF, W, 0, 1)\n",
    "qu.tensor.connect(AF, W, 1, 0)"
   ]
  },
  {
   "cell_type": "code",
   "execution_count": 153,
   "metadata": {},
   "outputs": [],
   "source": [
    "FAW = tn ^..."
   ]
  },
  {
   "cell_type": "code",
   "execution_count": 154,
   "metadata": {},
   "outputs": [],
   "source": [
    "tn = FAW | B"
   ]
  },
  {
   "cell_type": "code",
   "execution_count": 157,
   "metadata": {},
   "outputs": [],
   "source": [
    "qu.tensor.connect(FAW, B, 1, 1)\n",
    "qu.tensor.connect(FAW, B, 0, 0)"
   ]
  },
  {
   "cell_type": "code",
   "execution_count": 158,
   "metadata": {},
   "outputs": [],
   "source": [
    "F = tn ^..."
   ]
  },
  {
   "cell_type": "markdown",
   "metadata": {},
   "source": [
    "# result"
   ]
  },
  {
   "cell_type": "code",
   "execution_count": 159,
   "metadata": {},
   "outputs": [
    {
     "data": {
      "text/plain": [
       "0.060517978142569345"
      ]
     },
     "execution_count": 159,
     "metadata": {},
     "output_type": "execute_result"
    }
   ],
   "source": [
    "F"
   ]
  },
  {
   "cell_type": "code",
   "execution_count": 221,
   "metadata": {},
   "outputs": [
    {
     "data": {
      "text/plain": [
       "0.12521008895398625"
      ]
     },
     "execution_count": 221,
     "metadata": {},
     "output_type": "execute_result"
    }
   ],
   "source": [
    "get_precontracted_LR_networks(test_1, test_mpo, test_2)"
   ]
  },
  {
   "cell_type": "code",
   "execution_count": 173,
   "metadata": {},
   "outputs": [],
   "source": [
    "def get_precontracted_LR_networks(mps_1, mpo, mps_2, center=0):\n",
    "    n = mps_1.L\n",
    "    left_networks = []\n",
    "    right_networks = []\n",
    "\n",
    "    for i in range(n):\n",
    "        if i == 0:\n",
    "            A = mps_1[0].copy()\n",
    "            B = mps_2[0].copy()\n",
    "            W = mpo[0].copy()\n",
    "\n",
    "            tn = A | W \n",
    "            qu.tensor.connect(A, W, 1, 1)\n",
    "            AW = tn ^ ...\n",
    "            tn = AW | B\n",
    "            qu.tensor.connect(AW, B, 2, 1)\n",
    "            F = tn ^...\n",
    "\n",
    "        elif i == n-1:\n",
    "            A = mps_1[n-1].copy()\n",
    "            B = mps_2[n-1].copy()\n",
    "            W = mpo[n-1].copy()\n",
    "\n",
    "            tn = A | F\n",
    "            qu.tensor.connect(A, F, 0, 0)\n",
    "            AF = tn ^ ...\n",
    "            tn = AF | W\n",
    "            qu.tensor.connect(AF, W, 0, 1)\n",
    "            qu.tensor.connect(AF, W, 1, 0)\n",
    "            FAW = tn ^...\n",
    "            tn = FAW | B\n",
    "            qu.tensor.connect(FAW, B, 1, 1)\n",
    "            qu.tensor.connect(FAW, B, 0, 0)\n",
    "            F = tn ^...\n",
    "        \n",
    "        else:\n",
    "            A = mps_1[i].copy()\n",
    "            B = mps_2[i].copy()\n",
    "            W = mpo[i].copy()\n",
    "\n",
    "            tn = A | F\n",
    "            qu.tensor.connect(A, F, 0, 0)\n",
    "            AF = tn ^ ...\n",
    "            tn = AF | W\n",
    "            qu.tensor.connect(AF, W, 1, 2)\n",
    "            qu.tensor.connect(AF, W, 2, 0)\n",
    "            FAW = tn ^ ...\n",
    "            tn = FAW | B\n",
    "            qu.tensor.connect(FAW, B, 3, 2)\n",
    "            qu.tensor.connect(FAW, B, 1, 0)\n",
    "            F = tn ^...\n",
    "\n",
    "    return F"
   ]
  },
  {
   "cell_type": "code",
   "execution_count": 2,
   "metadata": {},
   "outputs": [],
   "source": [
    "n_bits = 10\n",
    "n = n_bits\n",
    "N = 2**n_bits\n",
    "L = 1\n",
    "chi = 16\n",
    "\n",
    "# Set timesteps\n",
    "dt = 0.1*2**-(n-1)\n",
    "T = 1\n",
    "\n",
    "# Set penalty factor for breach of incompressibility condition\n",
    "dx = 1 / (2**n - 1)\n",
    "mu = dx**2 * 10**4"
   ]
  },
  {
   "cell_type": "code",
   "execution_count": 3,
   "metadata": {},
   "outputs": [
    {
     "data": {
      "text/plain": [
       "0.009555396935966418"
      ]
     },
     "execution_count": 3,
     "metadata": {},
     "output_type": "execute_result"
    }
   ],
   "source": [
    "mu"
   ]
  },
  {
   "cell_type": "code",
   "execution_count": 2,
   "metadata": {},
   "outputs": [],
   "source": [
    "data = np.arange(8)shape((2, 2, 2))\n",
    "inds = ('k0', 'k1', 'k2')\n",
    "tags = ('test', )\n",
    "\n",
    "test_tn = qu.tensor.Tensor(data, inds, tags)"
   ]
  },
  {
   "cell_type": "code",
   "execution_count": 3,
   "metadata": {},
   "outputs": [
    {
     "data": {
      "image/png": "[encoded data removed]",
      "text/plain": [
       "<Figure size 600x600 with 1 Axes>"
      ]
     },
     "metadata": {},
     "output_type": "display_data"
    }
   ],
   "source": [
    "test_tn.draw()"
   ]
  },
  {
   "cell_type": "code",
   "execution_count": 4,
   "metadata": {},
   "outputs": [],
   "source": [
    "X = qu.tensor.Tensor(qu.pauli('X'), inds=('k0', 'b0'), tags=['PAULI', 'X', '0'])\n",
    "Y = qu.tensor.Tensor(qu.pauli('Y'), inds=('k1', 'b1'), tags=['PAULI', 'Y', '1'])"
   ]
  },
  {
   "cell_type": "code",
   "execution_count": 5,
   "metadata": {},
   "outputs": [],
   "source": [
    "TN = test_tn & X & Y"
   ]
  },
  {
   "cell_type": "code",
   "execution_count": 6,
   "metadata": {},
   "outputs": [
    {
     "data": {
      "image/png": "[encoded data removed]",
      "text/plain": [
       "<Figure size 600x600 with 1 Axes>"
      ]
     },
     "metadata": {},
     "output_type": "display_data"
    }
   ],
   "source": [
    "TN.draw()"
   ]
  },
  {
   "cell_type": "code",
   "execution_count": 8,
   "metadata": {},
   "outputs": [],
   "source": [
    "leftTerminator_array = np.zeros(3)\n",
    "Dmid_array = np.zeros((12,12))    # bulk node\n",
    "Dending_array = np.zeros((12,20)) # second-to-last node\n",
    "Dend_array = np.zeros((20,24))    # last node\n",
    "rightTerminator_array = np.zeros(6)\n",
    "h = 0.5**10"
   ]
  },
  {
   "cell_type": "code",
   "execution_count": 11,
   "metadata": {},
   "outputs": [],
   "source": [
    "leftTerminator_array[0] = 1\n",
    "leftTerminator_array[1] = 1\n",
    "leftTerminator_array[2] = 1\n",
    "\n",
    "Dmid_array[0, 0] = 1\n",
    "Dmid_array[1, 1] = 1\n",
    "Dmid_array[2, 2] = 1\n",
    "Dmid_array[3, 3] = 1\n",
    "\n",
    "# When sending in 1 from the right: add */\n",
    "Dmid_array[1+4*0, (0+4*1)] = 1\n",
    "Dmid_array[0+4*1, (1+4*1)] = 1\n",
    "Dmid_array[3+4*0, (2+4*1)] = 1 #01->11\n",
    "Dmid_array[2+4*1, (3+4*1)] = 1 #11->01+\n",
    "\n",
    "# When sending in 2 from the right: substract */\n",
    "Dmid_array[1+4*2, (0+4*2)] = 1\n",
    "Dmid_array[0+4*0, (1+4*2)] = 1\n",
    "Dmid_array[3+4*2, (2+4*2)] = 1 #01->11-\n",
    "Dmid_array[2+4*0, (3+4*2)] = 1 #11->01\n",
    "\n",
    "# Dending *\n",
    "# When sending in 0 from the right: do nothing */\n",
    "Dending_array[0, 0] = 1\n",
    "Dending_array[1, 1] = 1\n",
    "Dending_array[2, 2] = 1\n",
    "Dending_array[3, 3] = 1\n",
    "\n",
    "# When sending in 1 from the right: add */\n",
    "Dending_array[1+4*0, (0+4*1)] = 1\n",
    "Dending_array[0+4*1, (1+4*1)] = 1\n",
    "Dending_array[3+4*0, (2+4*1)] = 1\n",
    "Dending_array[2+4*1, (3+4*1)] = 1\n",
    "\n",
    "# When sending in 2 from the right: substract */\n",
    "Dending_array[1+4*2, (0+4*2)] = 1\n",
    "Dending_array[0+4*0, (1+4*2)] = 1\n",
    "Dending_array[3+4*2, (2+4*2)] = 1\n",
    "Dending_array[2+4*0, (3+4*2)] = 1\n",
    "\n",
    "# When sending in 3 from the right: add 4h */\n",
    "Dending_array[0+4*1, (0+4*3)] = 1 #add\n",
    "Dending_array[1+4*1, (1+4*3)] = 1 #add\n",
    "Dending_array[2+4*1, (2+4*3)] = 1 #add\n",
    "Dending_array[3+4*1, (3+4*3)] = 1 #add\n",
    "\n",
    "# When sending in 4 from the right: substract 4h */\n",
    "Dending_array[0+4*2, (0+4*4)] = 1 #substract\n",
    "Dending_array[1+4*2, (1+4*4)] = 1 #substract\n",
    "Dending_array[2+4*2, (2+4*4)] = 1 #substract\n",
    "Dending_array[3+4*2, (3+4*4)] = 1 #substract\n",
    "\n",
    "# Dend */\n",
    "# When sending in 0 from the right: do nothing */\n",
    "Dend_array[0, 0] = 1\n",
    "Dend_array[1, 1] = 1\n",
    "Dend_array[2, 2] = 1\n",
    "Dend_array[3, 3] = 1\n",
    "\n",
    "# When sending in 1 from the right: add */\n",
    "Dend_array[1+4*0, (0+4*1)] = 1\n",
    "Dend_array[0+4*1, (1+4*1)] = 1\n",
    "Dend_array[3+4*0, (2+4*1)] = 1\n",
    "Dend_array[2+4*1, (3+4*1)] = 1\n",
    "\n",
    "# When sending in 2 from the right: substract */\n",
    "Dend_array[1+4*2, (0+4*2)] = 1\n",
    "Dend_array[0+4*0, (1+4*2)] = 1\n",
    "Dend_array[3+4*2, (2+4*2)] = 1\n",
    "Dend_array[2+4*0, (3+4*2)] = 1\n",
    "\n",
    "# When sending in 3 from the right: go to 2h */\n",
    "Dend_array[0+4*1, (0+4*3)] = -1 #add\n",
    "Dend_array[0+4*2, (0+4*3)] = +1 #substract\n",
    "Dend_array[1+4*1, (1+4*3)] = -1 #add\n",
    "Dend_array[1+4*2, (1+4*3)] = +1 #substract\n",
    "Dend_array[2+4*1, (2+4*3)] = -1 #add\n",
    "Dend_array[2+4*2, (2+4*3)] = +1 #substract\n",
    "Dend_array[3+4*1, (3+4*3)] = -1 #add\n",
    "Dend_array[3+4*2, (3+4*3)] = +1 #substract\n",
    "\n",
    "# When sending in 4 from the right: go to 3h */\n",
    "# Perform the addition & substraction at this end node, and send instructions to next node */\n",
    "Dend_array[1+4*1, (0+4*4)] = -1 #add\n",
    "Dend_array[0+4*2, (1+4*4)] = +1 #substract\n",
    "Dend_array[3+4*1, (2+4*4)] = -1 #add\n",
    "Dend_array[2+4*2, (3+4*4)] = +1 #substract\n",
    "# Special case when remainder must be transferred */\n",
    "Dend_array[1+4*4, (0+4*4)] = +1 #substract 4h\n",
    "Dend_array[0+4*3, (1+4*4)] = -1 #add 4h\n",
    "Dend_array[3+4*4, (2+4*4)] = +1 #substract 4h\n",
    "Dend_array[2+4*3, (3+4*4)] = -1 #add 4h\n",
    "\n",
    "# When sending in 5 from the right: go to 4h */\n",
    "# Add 4h */\n",
    "Dend_array[0+4*3, (0+4*5)] = -1\n",
    "Dend_array[1+4*3, (1+4*5)] = -1\n",
    "Dend_array[2+4*3, (2+4*5)] = -1\n",
    "Dend_array[3+4*3, (3+4*5)] = -1\n",
    "# Substract 4h */\n",
    "Dend_array[0+4*4, (0+4*5)] = +1\n",
    "Dend_array[1+4*4, (1+4*5)] = +1\n",
    "Dend_array[2+4*4, (2+4*5)] = +1\n",
    "Dend_array[3+4*4, (3+4*5)] = +1\n",
    "\n",
    "# Right terminating array (for Dend) */\n",
    "# 8th order */\n",
    "rightTerminator_array[0] = 0 #do nothing\n",
    "rightTerminator_array[1] = -4/(5*h)  #add at h\n",
    "rightTerminator_array[2] = +4/(5*h)  #substract at h\n",
    "rightTerminator_array[3] = -1/(5*h)  #add & substract at 2h\n",
    "rightTerminator_array[4] = +4/(105*h)#add & substract at 3h\n",
    "rightTerminator_array[5] = -1/(280*h)#add & substract at 4h"
   ]
  },
  {
   "cell_type": "code",
   "execution_count": null,
   "metadata": {},
   "outputs": [],
   "source": [
    "/* Create the nodes */\n",
    "Dmid = tntNodeCreate(&Dmid_array, \"DLUR\", 4, 3, 4, 3);\n",
    "Dending = tntNodeCreate(&Dending_array, \"DLUR\", 4, 3, 4, 5);\n",
    "Dend = tntNodeCreate(&Dend_array, \"DLUR\", 4, 5, 4, 6);\n",
    "rightTerminator = tntNodeCreate(&rightTerminator_array, \"LR\", 6, 1);\n",
    "leftTerminator = tntNodeCreate(&leftTerminator_array, \"LR\", 1, 3);\n",
    "/* Use terminating nodes to produce starting and ending D nodes */\n",
    "/* First Dstart */\n",
    "Dmidc = tntNodeCopy(Dmid);\n",
    "tntNodeJoin(leftTerminator,\"R\",Dmidc,\"L\");\n",
    "Dstart = tntNodeContract(leftTerminator,Dmidc);\n",
    "/* Then Dend */\n",
    "tntNodeJoin(Dend,\"R\",rightTerminator,\"L\");\n",
    "Dend = tntNodeContract(rightTerminator,Dend);\n",
    "\n",
    "/* Produce the full network */\n",
    "/* First initialise it */\n",
    "d1 = tntNetworkCreate();\n",
    "\n",
    "/* Insert the bulk nodes */\n",
    "for(unsigned i = 0; i<L-3; i++){\n",
    "    /* Create mid node at i */\n",
    "    Dmidc = tntNodeCopy(Dmid);\n",
    "    tntNodeInsertAtStart(Dmidc, \"L\", \"R\", d1);\n",
    "}\n",
    "\n",
    "/* Finally, insert the terminating nodes */\n",
    "tntNodeInsertAtStart(Dstart,\"L\",\"R\",d1);\n",
    "tntNodeInsertAtEnd(Dending,\"L\",\"R\",d1);\n",
    "tntNodeInsertAtEnd(Dend,\"L\",\"R\",d1);"
   ]
  },
  {
   "cell_type": "code",
   "execution_count": null,
   "metadata": {},
   "outputs": [],
   "source": [
    "Dmid_array.reshape((4, 3, 4, 3))\n",
    "Dending_array.reshape((4, 3, 4, 5))\n",
    "Dend_array.reshape((4, 5, 4, 6))\n",
    "rightTerminator_array.reshape((6, 1))\n",
    "leftTerminator_array.reshape((1, 3))"
   ]
  },
  {
   "cell_type": "code",
   "execution_count": null,
   "metadata": {},
   "outputs": [],
   "source": [
    "Dmid = qu.tensor.MatrixProductOperator(Dmid_array.reshape((4, 3, 4, 3)), 'dlur')\n",
    "Dending = qu.tensor.MatrixProductOperator(Dending_array.reshape((4, 3, 4, 5)), 'dlur')\n",
    "Dend = qu.tensor.MatrixProductOperator(Dend_array.reshape((4, 5, 4, 6)), 'dlur')\n",
    "rightTerminator = qu.tensor.MatrixProductOperator(rightTerminator_array.reshape((6, 1)), 'lr')\n",
    "leftTerminator = qu.tensor.MatrixProductOperator(leftTerminator_array.reshape((1, 3)), 'lr')"
   ]
  },
  {
   "cell_type": "code",
   "execution_count": 52,
   "metadata": {},
   "outputs": [],
   "source": [
    "leftTerminator_tensor = qu.tensor.Tensor(leftTerminator_array.reshape((1, 3)), ('l0', 'r0'), 'lT')\n",
    "Dmid_tensor = qu.tensor.Tensor(Dmid_array.reshape((4, 3, 4, 3)), ('d1', 'r0', 'u1', 'r1'), 'Dmid')"
   ]
  },
  {
   "cell_type": "code",
   "execution_count": 60,
   "metadata": {},
   "outputs": [
    {
     "data": {
      "text/plain": [
       "array([[[[1., 1., 1.],\n",
       "         [0., 1., 0.],\n",
       "         [0., 0., 0.],\n",
       "         [1., 0., 1.]],\n",
       "\n",
       "        [[0., 0., 0.],\n",
       "         [1., 0., 1.],\n",
       "         [1., 0., 0.],\n",
       "         [0., 0., 0.]],\n",
       "\n",
       "        [[0., 0., 0.],\n",
       "         [0., 0., 0.],\n",
       "         [0., 1., 0.],\n",
       "         [0., 0., 0.]],\n",
       "\n",
       "        [[0., 0., 0.],\n",
       "         [0., 0., 0.],\n",
       "         [0., 0., 1.],\n",
       "         [0., 1., 0.]]]])"
      ]
     },
     "execution_count": 60,
     "metadata": {},
     "output_type": "execute_result"
    }
   ],
   "source": [
    "test = leftTerminator_tensor & Dmid_tensor\n",
    "test_ = test ^ ...\n",
    "test_.data"
   ]
  },
  {
   "cell_type": "code",
   "execution_count": 65,
   "metadata": {},
   "outputs": [
    {
     "data": {
      "text/plain": [
       "array([[1., 0., 0., 0., 0., 0., 0., 0., 0., 1., 0., 0., 0., 0., 0., 1.,\n",
       "        0., 0., 1., 0., 0., 0., 0., 0., 0., 0., 0., 0., 0., 0., 0., 1.,\n",
       "        0., 0., 0., 0., 0., 0., 0., 0., 0., 0., 0., 0., 1., 0., 0., 0.],\n",
       "       [0., 1., 0., 0., 1., 0., 0., 0., 0., 0., 0., 0., 0., 0., 0., 0.,\n",
       "        0., 1., 0., 0., 0., 0., 0., 0., 0., 0., 0., 0., 0., 0., 0., 0.,\n",
       "        0., 0., 0., 0., 0., 0., 0., 0., 0., 0., 0., 0., 0., 0., 0., 0.],\n",
       "       [0., 0., 1., 0., 0., 0., 0., 0., 0., 0., 0., 1., 0., 0., 0., 0.,\n",
       "        0., 0., 0., 0., 0., 0., 0., 0., 0., 0., 0., 0., 0., 0., 0., 0.,\n",
       "        0., 0., 0., 0., 0., 0., 0., 0., 0., 0., 0., 0., 0., 0., 1., 0.]])"
      ]
     },
     "execution_count": 65,
     "metadata": {},
     "output_type": "execute_result"
    }
   ],
   "source": [
    "Dmid_array.reshape((4, 3, 4, 3)).transpose((1, 0, 2, 3)).reshape((3, -1))\n"
   ]
  },
  {
   "cell_type": "code",
   "execution_count": 39,
   "metadata": {},
   "outputs": [
    {
     "data": {
      "image/png": "[encoded data removed]",
      "text/plain": [
       "<Figure size 600x600 with 1 Axes>"
      ]
     },
     "metadata": {},
     "output_type": "display_data"
    }
   ],
   "source": [
    "test = np.ones(2**8).reshape((4, 4, 4, 4))\n",
    "test_L = test[0, :, :, :]\n",
    "test_R = test[:, :, :, 0]\n",
    "test_all = (test_L, test, test_R)\n",
    "qu.tensor.MatrixProductOperator(test_all).draw()"
   ]
  },
  {
   "cell_type": "code",
   "execution_count": 26,
   "metadata": {},
   "outputs": [],
   "source": [
    "A = qu.tensor.MPO_rand_herm(20, bond_dim=7, tags=['HAM'])"
   ]
  },
  {
   "cell_type": "code",
   "execution_count": 37,
   "metadata": {},
   "outputs": [
    {
     "data": {
      "text/plain": [
       "(7, 2, 2)"
      ]
     },
     "execution_count": 37,
     "metadata": {},
     "output_type": "execute_result"
    }
   ],
   "source": [
    "A.arrays[0].shape"
   ]
  },
  {
   "cell_type": "code",
   "execution_count": 8,
   "metadata": {},
   "outputs": [],
   "source": [
    "dx_block = np.array([[0, 1, 0, -1], [1, 0, -1, 0], [0, 1, 0, -1], [-1, 0, 1, 0]])\n",
    "dx_2d_array = np.tensordot(np.eye(4), dx_block, axes=0)"
   ]
  },
  {
   "cell_type": "code",
   "execution_count": 9,
   "metadata": {},
   "outputs": [
    {
     "data": {
      "text/plain": [
       "array([[[[ 0.,  1.,  0., -1.],\n",
       "         [ 1.,  0., -1.,  0.],\n",
       "         [ 0.,  1.,  0., -1.],\n",
       "         [-1.,  0.,  1.,  0.]],\n",
       "\n",
       "        [[ 0.,  0.,  0.,  0.],\n",
       "         [ 0.,  0.,  0.,  0.],\n",
       "         [ 0.,  0.,  0.,  0.],\n",
       "         [ 0.,  0.,  0.,  0.]],\n",
       "\n",
       "        [[ 0.,  0.,  0.,  0.],\n",
       "         [ 0.,  0.,  0.,  0.],\n",
       "         [ 0.,  0.,  0.,  0.],\n",
       "         [ 0.,  0.,  0.,  0.]],\n",
       "\n",
       "        [[ 0.,  0.,  0.,  0.],\n",
       "         [ 0.,  0.,  0.,  0.],\n",
       "         [ 0.,  0.,  0.,  0.],\n",
       "         [ 0.,  0.,  0.,  0.]]],\n",
       "\n",
       "\n",
       "       [[[ 0.,  0.,  0.,  0.],\n",
       "         [ 0.,  0.,  0.,  0.],\n",
       "         [ 0.,  0.,  0.,  0.],\n",
       "         [ 0.,  0.,  0.,  0.]],\n",
       "\n",
       "        [[ 0.,  1.,  0., -1.],\n",
       "         [ 1.,  0., -1.,  0.],\n",
       "         [ 0.,  1.,  0., -1.],\n",
       "         [-1.,  0.,  1.,  0.]],\n",
       "\n",
       "        [[ 0.,  0.,  0.,  0.],\n",
       "         [ 0.,  0.,  0.,  0.],\n",
       "         [ 0.,  0.,  0.,  0.],\n",
       "         [ 0.,  0.,  0.,  0.]],\n",
       "\n",
       "        [[ 0.,  0.,  0.,  0.],\n",
       "         [ 0.,  0.,  0.,  0.],\n",
       "         [ 0.,  0.,  0.,  0.],\n",
       "         [ 0.,  0.,  0.,  0.]]],\n",
       "\n",
       "\n",
       "       [[[ 0.,  0.,  0.,  0.],\n",
       "         [ 0.,  0.,  0.,  0.],\n",
       "         [ 0.,  0.,  0.,  0.],\n",
       "         [ 0.,  0.,  0.,  0.]],\n",
       "\n",
       "        [[ 0.,  0.,  0.,  0.],\n",
       "         [ 0.,  0.,  0.,  0.],\n",
       "         [ 0.,  0.,  0.,  0.],\n",
       "         [ 0.,  0.,  0.,  0.]],\n",
       "\n",
       "        [[ 0.,  1.,  0., -1.],\n",
       "         [ 1.,  0., -1.,  0.],\n",
       "         [ 0.,  1.,  0., -1.],\n",
       "         [-1.,  0.,  1.,  0.]],\n",
       "\n",
       "        [[ 0.,  0.,  0.,  0.],\n",
       "         [ 0.,  0.,  0.,  0.],\n",
       "         [ 0.,  0.,  0.,  0.],\n",
       "         [ 0.,  0.,  0.,  0.]]],\n",
       "\n",
       "\n",
       "       [[[ 0.,  0.,  0.,  0.],\n",
       "         [ 0.,  0.,  0.,  0.],\n",
       "         [ 0.,  0.,  0.,  0.],\n",
       "         [ 0.,  0.,  0.,  0.]],\n",
       "\n",
       "        [[ 0.,  0.,  0.,  0.],\n",
       "         [ 0.,  0.,  0.,  0.],\n",
       "         [ 0.,  0.,  0.,  0.],\n",
       "         [ 0.,  0.,  0.,  0.]],\n",
       "\n",
       "        [[ 0.,  0.,  0.,  0.],\n",
       "         [ 0.,  0.,  0.,  0.],\n",
       "         [ 0.,  0.,  0.,  0.],\n",
       "         [ 0.,  0.,  0.,  0.]],\n",
       "\n",
       "        [[ 0.,  1.,  0., -1.],\n",
       "         [ 1.,  0., -1.,  0.],\n",
       "         [ 0.,  1.,  0., -1.],\n",
       "         [-1.,  0.,  1.,  0.]]]])"
      ]
     },
     "execution_count": 9,
     "metadata": {},
     "output_type": "execute_result"
    }
   ],
   "source": [
    "dx_2d_array"
   ]
  },
  {
   "cell_type": "code",
   "execution_count": 433,
   "metadata": {},
   "outputs": [
    {
     "data": {
      "text/plain": [
       "array([[1., 0., 0., 2., 0., 0.],\n",
       "       [0., 1., 0., 0., 2., 0.],\n",
       "       [0., 0., 1., 0., 0., 2.],\n",
       "       [3., 0., 0., 4., 0., 0.],\n",
       "       [0., 3., 0., 0., 4., 0.],\n",
       "       [0., 0., 3., 0., 0., 4.]])"
      ]
     },
     "execution_count": 433,
     "metadata": {},
     "output_type": "execute_result"
    }
   ],
   "source": [
    "np.block([[np.eye(3), 2*np.eye(3)], [3*np.eye(3), 4*np.eye(3)]])"
   ]
  },
  {
   "cell_type": "code",
   "execution_count": null,
   "metadata": {},
   "outputs": [],
   "source": []
  }
 ],
 "metadata": {
  "kernelspec": {
   "display_name": "Python 3.9.16 ('num_39')",
   "language": "python",
   "name": "python3"
  },
  "language_info": {
   "codemirror_mode": {
    "name": "ipython",
    "version": 3
   },
   "file_extension": ".py",
   "mimetype": "text/x-python",
   "name": "python",
   "nbconvert_exporter": "python",
   "pygments_lexer": "ipython3",
   "version": "3.9.16"
  },
  "orig_nbformat": 4,
  "vscode": {
   "interpreter": {
    "hash": "c2db0e276266533f8ecc4fc8b55aee1e8e7aba85ac1f10f991c1e9c8ddfbe4ff"
   }
  }
 },
 "nbformat": 4,
 "nbformat_minor": 2
}
